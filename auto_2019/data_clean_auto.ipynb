{
 "cells": [
  {
   "cell_type": "markdown",
   "id": "533eeaf9",
   "metadata": {},
   "source": [
    "### <font face='Liberation serif' size=4>**Загружаем библиотеки**</font>"
   ]
  },
  {
   "cell_type": "code",
   "execution_count": 1,
   "id": "3879ef1d",
   "metadata": {},
   "outputs": [],
   "source": [
    "import pandas as pd\n",
    "import numpy as np\n",
    "import matplotlib.pyplot as plt\n",
    "import seaborn as sns\n",
    "import warnings\n",
    "\n",
    "%matplotlib inline"
   ]
  },
  {
   "cell_type": "markdown",
   "id": "81ab13ff",
   "metadata": {},
   "source": [
    "<font face='Liberation serif' size=4>**Отключаем предупреждения**</font>"
   ]
  },
  {
   "cell_type": "code",
   "execution_count": 2,
   "id": "428c3eff",
   "metadata": {},
   "outputs": [],
   "source": [
    "warnings.filterwarnings('ignore')"
   ]
  },
  {
   "cell_type": "markdown",
   "id": "4b59e9a8",
   "metadata": {},
   "source": [
    "### <font face='Liberation serif' size=4>**Загружаем датасет**</font>"
   ]
  },
  {
   "cell_type": "code",
   "execution_count": 3,
   "id": "b31c9493",
   "metadata": {},
   "outputs": [],
   "source": [
    "df = pd.read_csv('/ya/auto_kz_2019.csv', sep=';', decimal=',')"
   ]
  },
  {
   "cell_type": "markdown",
   "id": "e26d2d90",
   "metadata": {},
   "source": [
    "<font face='liberation serif' size=5 color='red'><b>Пояснение загрузки:</b></font>"
   ]
  },
  {
   "cell_type": "markdown",
   "id": "505a4cc8",
   "metadata": {},
   "source": [
    "<font face='Liberation serif' size=4 color='crimson'>***Здесь при загрузке используем достаточно редкий аргумент `decimal` - знак, который отделяет целое число от десятичной части, обычно по умолчанию это точка, но в датасетах, созданных в эксель, очень часто разделителем является запятая - чтобы числовые данные в таком случае отображались корректно мы используем параметр `decimal` со значением запятая.***\n",
    "    \n",
    "***sep (от separator) определяет символ, которым столбцы отделяются друг от друга, по умолчанию - это запятая, но в нашем случае используется второй по частоте символ - точка с запятой, поэтому указываем разделитель в параметре `sep`, третьим по частоте использования является табуляция - указывается вот так при загрузке - `sep='\\t'`***</font>"
   ]
  },
  {
   "cell_type": "markdown",
   "id": "15dd4591",
   "metadata": {},
   "source": [
    "<font face='Liberation serif' size=4>Смотрим на датасет</font>"
   ]
  },
  {
   "cell_type": "code",
   "execution_count": 4,
   "id": "fd11977d",
   "metadata": {
    "scrolled": true
   },
   "outputs": [
    {
     "name": "stdout",
     "output_type": "stream",
     "text": [
      "Итого имеем 39966 наблюдений с 25 признаками\n"
     ]
    }
   ],
   "source": [
    "start_shape = df.shape\n",
    "print(f'Итого имеем {start_shape[0]} наблюдений с {start_shape[1]} признаками')"
   ]
  },
  {
   "cell_type": "markdown",
   "id": "b711cf61",
   "metadata": {},
   "source": [
    "<font face='Liberation serif' size=4>Мне сразу не нравятся названия колонок - с русскими названиями + пробелы работа будет происходить очень медленно. Под замену.</font>"
   ]
  },
  {
   "cell_type": "code",
   "execution_count": 5,
   "id": "926c443d",
   "metadata": {},
   "outputs": [
    {
     "data": {
      "text/html": [
       "<div>\n",
       "<style scoped>\n",
       "    .dataframe tbody tr th:only-of-type {\n",
       "        vertical-align: middle;\n",
       "    }\n",
       "\n",
       "    .dataframe tbody tr th {\n",
       "        vertical-align: top;\n",
       "    }\n",
       "\n",
       "    .dataframe thead th {\n",
       "        text-align: right;\n",
       "    }\n",
       "</style>\n",
       "<table border=\"1\" class=\"dataframe\">\n",
       "  <thead>\n",
       "    <tr style=\"text-align: right;\">\n",
       "      <th></th>\n",
       "      <th>Год</th>\n",
       "      <th>Месяц</th>\n",
       "      <th>Компания</th>\n",
       "      <th>Бренд</th>\n",
       "      <th>Модель</th>\n",
       "      <th>Модификация</th>\n",
       "      <th>Год выпуска</th>\n",
       "      <th>Страна-производитель</th>\n",
       "      <th>Вид топлива</th>\n",
       "      <th>Объём двиг, л,</th>\n",
       "      <th>...</th>\n",
       "      <th>Тип клиента</th>\n",
       "      <th>Форма расчета</th>\n",
       "      <th>Количество</th>\n",
       "      <th>Цена, USD</th>\n",
       "      <th>Продажа, USD</th>\n",
       "      <th>Область</th>\n",
       "      <th>Сегментация 2013</th>\n",
       "      <th>Класс 2013</th>\n",
       "      <th>Сегментация Eng</th>\n",
       "      <th>Локализация производства</th>\n",
       "    </tr>\n",
       "  </thead>\n",
       "  <tbody>\n",
       "    <tr>\n",
       "      <th>26535</th>\n",
       "      <td>2019</td>\n",
       "      <td>Январь</td>\n",
       "      <td>Toyota Motor Kazakhstan</td>\n",
       "      <td>Toyota</td>\n",
       "      <td>Camry</td>\n",
       "      <td>B4</td>\n",
       "      <td>2018</td>\n",
       "      <td>Российская Федерация</td>\n",
       "      <td>Бензин</td>\n",
       "      <td>2.5</td>\n",
       "      <td>...</td>\n",
       "      <td>Физ. Лицо</td>\n",
       "      <td>NaN</td>\n",
       "      <td>1.0</td>\n",
       "      <td>29626.35212</td>\n",
       "      <td>29626.35212</td>\n",
       "      <td>г.Алматы</td>\n",
       "      <td>Легковые автомобили</td>\n",
       "      <td>D класс</td>\n",
       "      <td>D</td>\n",
       "      <td>Импорт</td>\n",
       "    </tr>\n",
       "    <tr>\n",
       "      <th>2754</th>\n",
       "      <td>2019</td>\n",
       "      <td>Январь</td>\n",
       "      <td>Astana Motors</td>\n",
       "      <td>Hyundai</td>\n",
       "      <td>Accent</td>\n",
       "      <td>Hyundai Accent HCr Active Plus</td>\n",
       "      <td>2019</td>\n",
       "      <td>Республика Казахстан</td>\n",
       "      <td>Бензин</td>\n",
       "      <td>1,6</td>\n",
       "      <td>...</td>\n",
       "      <td>Физ. Лицо</td>\n",
       "      <td>NaN</td>\n",
       "      <td>1.0</td>\n",
       "      <td>15037.81834</td>\n",
       "      <td>15037.81834</td>\n",
       "      <td>г.Нур-Султан</td>\n",
       "      <td>Легковые автомобили</td>\n",
       "      <td>B класс</td>\n",
       "      <td>B</td>\n",
       "      <td>Локальное производство</td>\n",
       "    </tr>\n",
       "    <tr>\n",
       "      <th>39877</th>\n",
       "      <td>2019</td>\n",
       "      <td>Июль</td>\n",
       "      <td>Allur Auto</td>\n",
       "      <td>Yutong</td>\n",
       "      <td>ZK6108HGH</td>\n",
       "      <td>Bus</td>\n",
       "      <td>2019</td>\n",
       "      <td>Республика Казахстан</td>\n",
       "      <td>Дизель</td>\n",
       "      <td>6,7L</td>\n",
       "      <td>...</td>\n",
       "      <td>Юр. Лицо</td>\n",
       "      <td>безналичный</td>\n",
       "      <td>1.0</td>\n",
       "      <td>91979.00697</td>\n",
       "      <td>91979.00697</td>\n",
       "      <td>Костанайская область</td>\n",
       "      <td>Коммерческие автомобили</td>\n",
       "      <td>Средние автобусы</td>\n",
       "      <td>O</td>\n",
       "      <td>Локальное производство</td>\n",
       "    </tr>\n",
       "    <tr>\n",
       "      <th>37695</th>\n",
       "      <td>2019</td>\n",
       "      <td>Июль</td>\n",
       "      <td>Вираж</td>\n",
       "      <td>UAZ</td>\n",
       "      <td>Patriot</td>\n",
       "      <td>23632-253+КУНГ  Легковой</td>\n",
       "      <td>2018</td>\n",
       "      <td>Российская Федерация</td>\n",
       "      <td>Бензин</td>\n",
       "      <td>2,7</td>\n",
       "      <td>...</td>\n",
       "      <td>Юр. Лицо</td>\n",
       "      <td>безналичный</td>\n",
       "      <td>1.0</td>\n",
       "      <td>19008.12623</td>\n",
       "      <td>19008.12623</td>\n",
       "      <td>г.Алматы</td>\n",
       "      <td>Внедорожники</td>\n",
       "      <td>Среднеразмерные SUV</td>\n",
       "      <td>K2</td>\n",
       "      <td>Импорт</td>\n",
       "    </tr>\n",
       "    <tr>\n",
       "      <th>28881</th>\n",
       "      <td>2019</td>\n",
       "      <td>Июнь</td>\n",
       "      <td>Toyota Motor Kazakhstan</td>\n",
       "      <td>Toyota</td>\n",
       "      <td>Camry</td>\n",
       "      <td>B5</td>\n",
       "      <td>2019</td>\n",
       "      <td>Российская Федерация</td>\n",
       "      <td>Бензин</td>\n",
       "      <td>2.5</td>\n",
       "      <td>...</td>\n",
       "      <td>Физ. Лицо</td>\n",
       "      <td>NaN</td>\n",
       "      <td>1.0</td>\n",
       "      <td>32904.23741</td>\n",
       "      <td>32904.23741</td>\n",
       "      <td>г.Нур-Султан</td>\n",
       "      <td>Легковые автомобили</td>\n",
       "      <td>D класс</td>\n",
       "      <td>D</td>\n",
       "      <td>Импорт</td>\n",
       "    </tr>\n",
       "  </tbody>\n",
       "</table>\n",
       "<p>5 rows × 25 columns</p>\n",
       "</div>"
      ],
      "text/plain": [
       "        Год   Месяц                 Компания    Бренд     Модель   \n",
       "26535  2019  Январь  Toyota Motor Kazakhstan   Toyota      Camry  \\\n",
       "2754   2019  Январь            Astana Motors  Hyundai     Accent   \n",
       "39877  2019    Июль               Allur Auto   Yutong  ZK6108HGH   \n",
       "37695  2019    Июль                    Вираж      UAZ    Patriot   \n",
       "28881  2019    Июнь  Toyota Motor Kazakhstan   Toyota      Camry   \n",
       "\n",
       "                          Модификация Год выпуска  Страна-производитель   \n",
       "26535                              B4        2018  Российская Федерация  \\\n",
       "2754   Hyundai Accent HCr Active Plus        2019  Республика Казахстан   \n",
       "39877                             Bus        2019  Республика Казахстан   \n",
       "37695        23632-253+КУНГ  Легковой        2018  Российская Федерация   \n",
       "28881                              B5        2019  Российская Федерация   \n",
       "\n",
       "      Вид топлива Объём двиг, л,  ... Тип клиента Форма расчета Количество   \n",
       "26535      Бензин            2.5  ...   Физ. Лицо           NaN        1.0  \\\n",
       "2754       Бензин            1,6  ...   Физ. Лицо           NaN        1.0   \n",
       "39877      Дизель           6,7L  ...    Юр. Лицо   безналичный        1.0   \n",
       "37695      Бензин            2,7  ...    Юр. Лицо   безналичный        1.0   \n",
       "28881      Бензин            2.5  ...   Физ. Лицо           NaN        1.0   \n",
       "\n",
       "         Цена, USD Продажа, USD               Область   \n",
       "26535  29626.35212  29626.35212              г.Алматы  \\\n",
       "2754   15037.81834  15037.81834          г.Нур-Султан   \n",
       "39877  91979.00697  91979.00697  Костанайская область   \n",
       "37695  19008.12623  19008.12623              г.Алматы   \n",
       "28881  32904.23741  32904.23741          г.Нур-Султан   \n",
       "\n",
       "              Сегментация 2013           Класс 2013  Сегментация Eng   \n",
       "26535      Легковые автомобили              D класс                D  \\\n",
       "2754       Легковые автомобили              B класс                B   \n",
       "39877  Коммерческие автомобили     Средние автобусы                O   \n",
       "37695             Внедорожники  Среднеразмерные SUV               K2   \n",
       "28881      Легковые автомобили              D класс                D   \n",
       "\n",
       "       Локализация производства  \n",
       "26535                    Импорт  \n",
       "2754     Локальное производство  \n",
       "39877    Локальное производство  \n",
       "37695                    Импорт  \n",
       "28881                    Импорт  \n",
       "\n",
       "[5 rows x 25 columns]"
      ]
     },
     "execution_count": 5,
     "metadata": {},
     "output_type": "execute_result"
    }
   ],
   "source": [
    "df.sample(5)"
   ]
  },
  {
   "cell_type": "markdown",
   "id": "51370845",
   "metadata": {},
   "source": [
    "<font face='Liberation serif' size=4>Зачищаем названия колонок для удобства работы (приводим к snake_case)</font>"
   ]
  },
  {
   "cell_type": "code",
   "execution_count": 6,
   "id": "74ce01e0",
   "metadata": {},
   "outputs": [
    {
     "data": {
      "text/plain": [
       "Index(['Год', 'Месяц', 'Компания', 'Бренд', 'Модель', 'Модификация',\n",
       "       'Год выпуска', 'Страна-производитель', 'Вид топлива', 'Объём двиг, л,',\n",
       "       'Коробка передач', 'Тип привода', 'Сегмент', 'Регион',\n",
       "       'Наименование дилерского центра', 'Тип клиента', 'Форма расчета',\n",
       "       'Количество', 'Цена, USD', 'Продажа, USD', 'Область',\n",
       "       'Сегментация 2013', 'Класс 2013', 'Сегментация Eng',\n",
       "       'Локализация производства'],\n",
       "      dtype='object')"
      ]
     },
     "execution_count": 6,
     "metadata": {},
     "output_type": "execute_result"
    }
   ],
   "source": [
    "# печатаем колонки для удобства\n",
    "df.columns"
   ]
  },
  {
   "cell_type": "code",
   "execution_count": 7,
   "id": "78026a81",
   "metadata": {},
   "outputs": [],
   "source": [
    "# сохраняем текущие названия колонок в список\n",
    "columns_start = df.columns.tolist()"
   ]
  },
  {
   "cell_type": "code",
   "execution_count": 8,
   "id": "6daa67c9",
   "metadata": {},
   "outputs": [],
   "source": [
    "# создаем список колонок, который будем использовать, согласно snake_case\n",
    "columns_end = ['year', 'month', 'company', 'brand', 'model', 'modification', 'release_year', 'manufacturing_country', 'fuel_type',\n",
    "         'engine_volume', 'transmission_type', 'drive_type', 'segment', 'region', 'dealer', 'client_type', 'payment_type', \n",
    "         'quantity', 'price_usd', 'sell_price_usd', 'state', 'segment_2013', 'class_2013', 'segment_eng', 'product_localization']"
   ]
  },
  {
   "cell_type": "code",
   "execution_count": 9,
   "id": "08737cae",
   "metadata": {},
   "outputs": [],
   "source": [
    "# создаем словарь с ключами из старых колонок и значениями из новых колонок\n",
    "change_col_dict = {k:v for k, v in zip(columns_start, columns_end)}"
   ]
  },
  {
   "cell_type": "code",
   "execution_count": 10,
   "id": "203b4a9f",
   "metadata": {},
   "outputs": [
    {
     "data": {
      "text/plain": [
       "{'Год': 'year',\n",
       " 'Месяц': 'month',\n",
       " 'Компания': 'company',\n",
       " 'Бренд': 'brand',\n",
       " 'Модель': 'model',\n",
       " 'Модификация': 'modification',\n",
       " 'Год выпуска': 'release_year',\n",
       " 'Страна-производитель': 'manufacturing_country',\n",
       " 'Вид топлива': 'fuel_type',\n",
       " 'Объём двиг, л,': 'engine_volume',\n",
       " 'Коробка передач': 'transmission_type',\n",
       " 'Тип привода': 'drive_type',\n",
       " 'Сегмент': 'segment',\n",
       " 'Регион': 'region',\n",
       " 'Наименование дилерского центра': 'dealer',\n",
       " 'Тип клиента': 'client_type',\n",
       " 'Форма расчета': 'payment_type',\n",
       " 'Количество': 'quantity',\n",
       " 'Цена, USD': 'price_usd',\n",
       " 'Продажа, USD': 'sell_price_usd',\n",
       " 'Область': 'state',\n",
       " 'Сегментация 2013': 'segment_2013',\n",
       " 'Класс 2013': 'class_2013',\n",
       " 'Сегментация Eng': 'segment_eng',\n",
       " 'Локализация производства': 'product_localization'}"
      ]
     },
     "execution_count": 10,
     "metadata": {},
     "output_type": "execute_result"
    }
   ],
   "source": [
    "# распечатаем словарь для проверки - количество колонок совпадает с исходным, для каждой есть значение в словаре\n",
    "change_col_dict"
   ]
  },
  {
   "cell_type": "code",
   "execution_count": 11,
   "id": "218178b0",
   "metadata": {},
   "outputs": [],
   "source": [
    "# производим замену названий колонок\n",
    "df = df.rename(columns=change_col_dict)"
   ]
  },
  {
   "cell_type": "code",
   "execution_count": 12,
   "id": "ece926f0",
   "metadata": {},
   "outputs": [
    {
     "data": {
      "text/html": [
       "<div>\n",
       "<style scoped>\n",
       "    .dataframe tbody tr th:only-of-type {\n",
       "        vertical-align: middle;\n",
       "    }\n",
       "\n",
       "    .dataframe tbody tr th {\n",
       "        vertical-align: top;\n",
       "    }\n",
       "\n",
       "    .dataframe thead th {\n",
       "        text-align: right;\n",
       "    }\n",
       "</style>\n",
       "<table border=\"1\" class=\"dataframe\">\n",
       "  <thead>\n",
       "    <tr style=\"text-align: right;\">\n",
       "      <th></th>\n",
       "      <th>year</th>\n",
       "      <th>month</th>\n",
       "      <th>company</th>\n",
       "      <th>brand</th>\n",
       "      <th>model</th>\n",
       "      <th>modification</th>\n",
       "      <th>release_year</th>\n",
       "      <th>manufacturing_country</th>\n",
       "      <th>fuel_type</th>\n",
       "      <th>engine_volume</th>\n",
       "      <th>...</th>\n",
       "      <th>client_type</th>\n",
       "      <th>payment_type</th>\n",
       "      <th>quantity</th>\n",
       "      <th>price_usd</th>\n",
       "      <th>sell_price_usd</th>\n",
       "      <th>state</th>\n",
       "      <th>segment_2013</th>\n",
       "      <th>class_2013</th>\n",
       "      <th>segment_eng</th>\n",
       "      <th>product_localization</th>\n",
       "    </tr>\n",
       "  </thead>\n",
       "  <tbody>\n",
       "    <tr>\n",
       "      <th>21444</th>\n",
       "      <td>2019</td>\n",
       "      <td>Июнь</td>\n",
       "      <td>Nissan Manufacturing RUS</td>\n",
       "      <td>Nissan</td>\n",
       "      <td>Terrano</td>\n",
       "      <td>Elegance Plus</td>\n",
       "      <td>2019</td>\n",
       "      <td>Российская Федерация</td>\n",
       "      <td>Бензин</td>\n",
       "      <td>2</td>\n",
       "      <td>...</td>\n",
       "      <td>NaN</td>\n",
       "      <td>NaN</td>\n",
       "      <td>1.0</td>\n",
       "      <td>16805.50550</td>\n",
       "      <td>16805.50550</td>\n",
       "      <td>Павлодарская область</td>\n",
       "      <td>Внедорожники</td>\n",
       "      <td>Полноразмерные SUV</td>\n",
       "      <td>K3</td>\n",
       "      <td>Импорт</td>\n",
       "    </tr>\n",
       "    <tr>\n",
       "      <th>25630</th>\n",
       "      <td>2019</td>\n",
       "      <td>Июнь</td>\n",
       "      <td>БИПЭК АВТО</td>\n",
       "      <td>Skoda</td>\n",
       "      <td>Rapid</td>\n",
       "      <td>NaN</td>\n",
       "      <td>2019</td>\n",
       "      <td>Республика Казахстан</td>\n",
       "      <td>Бензин</td>\n",
       "      <td>1,6</td>\n",
       "      <td>...</td>\n",
       "      <td>NaN</td>\n",
       "      <td>NaN</td>\n",
       "      <td>6.0</td>\n",
       "      <td>13900.00000</td>\n",
       "      <td>83400.00000</td>\n",
       "      <td>г.Алматы</td>\n",
       "      <td>Легковые автомобили</td>\n",
       "      <td>B класс</td>\n",
       "      <td>B</td>\n",
       "      <td>Локальное производство</td>\n",
       "    </tr>\n",
       "    <tr>\n",
       "      <th>16165</th>\n",
       "      <td>2019</td>\n",
       "      <td>Март</td>\n",
       "      <td>БИПЭК АВТО</td>\n",
       "      <td>Kia</td>\n",
       "      <td>Picanto</td>\n",
       "      <td>NaN</td>\n",
       "      <td>2018</td>\n",
       "      <td>Республика Казахстан</td>\n",
       "      <td>Бензин</td>\n",
       "      <td>1,248</td>\n",
       "      <td>...</td>\n",
       "      <td>NaN</td>\n",
       "      <td>NaN</td>\n",
       "      <td>2.0</td>\n",
       "      <td>10900.00000</td>\n",
       "      <td>21800.00000</td>\n",
       "      <td>г.Алматы</td>\n",
       "      <td>Легковые автомобили</td>\n",
       "      <td>A класс</td>\n",
       "      <td>A</td>\n",
       "      <td>Локальное производство</td>\n",
       "    </tr>\n",
       "    <tr>\n",
       "      <th>4509</th>\n",
       "      <td>2019</td>\n",
       "      <td>Август</td>\n",
       "      <td>Astana Motors</td>\n",
       "      <td>Hyundai</td>\n",
       "      <td>Accent</td>\n",
       "      <td>Hyundai Accent HCr Elegance &amp; Style &amp; Prestige...</td>\n",
       "      <td>2019</td>\n",
       "      <td>Республика Казахстан</td>\n",
       "      <td>Бензин</td>\n",
       "      <td>1,6 MPI</td>\n",
       "      <td>...</td>\n",
       "      <td>Физ. Лицо</td>\n",
       "      <td>кредит</td>\n",
       "      <td>1.0</td>\n",
       "      <td>18334.53456</td>\n",
       "      <td>18334.53456</td>\n",
       "      <td>Мангистауская область</td>\n",
       "      <td>Легковые автомобили</td>\n",
       "      <td>B класс</td>\n",
       "      <td>B</td>\n",
       "      <td>Локальное производство</td>\n",
       "    </tr>\n",
       "    <tr>\n",
       "      <th>36616</th>\n",
       "      <td>2019</td>\n",
       "      <td>Август</td>\n",
       "      <td>Toyota Motor Kazakhstan</td>\n",
       "      <td>Toyota</td>\n",
       "      <td>RAV4</td>\n",
       "      <td>Z1</td>\n",
       "      <td>2019</td>\n",
       "      <td>Российская Федерация</td>\n",
       "      <td>Бензин</td>\n",
       "      <td>2.0</td>\n",
       "      <td>...</td>\n",
       "      <td>Физ. Лицо</td>\n",
       "      <td>NaN</td>\n",
       "      <td>1.0</td>\n",
       "      <td>26273.46560</td>\n",
       "      <td>26273.46560</td>\n",
       "      <td>г.Нур-Султан</td>\n",
       "      <td>Внедорожники</td>\n",
       "      <td>Компактные SUV</td>\n",
       "      <td>K1</td>\n",
       "      <td>Импорт</td>\n",
       "    </tr>\n",
       "  </tbody>\n",
       "</table>\n",
       "<p>5 rows × 25 columns</p>\n",
       "</div>"
      ],
      "text/plain": [
       "       year   month                   company    brand    model   \n",
       "21444  2019    Июнь  Nissan Manufacturing RUS   Nissan  Terrano  \\\n",
       "25630  2019    Июнь                БИПЭК АВТО    Skoda    Rapid   \n",
       "16165  2019    Март                БИПЭК АВТО      Kia  Picanto   \n",
       "4509   2019  Август            Astana Motors   Hyundai   Accent   \n",
       "36616  2019  Август   Toyota Motor Kazakhstan   Toyota     RAV4   \n",
       "\n",
       "                                            modification release_year   \n",
       "21444                                      Elegance Plus         2019  \\\n",
       "25630                                                NaN         2019   \n",
       "16165                                                NaN         2018   \n",
       "4509   Hyundai Accent HCr Elegance & Style & Prestige...         2019   \n",
       "36616                                                 Z1         2019   \n",
       "\n",
       "      manufacturing_country fuel_type engine_volume  ... client_type   \n",
       "21444  Российская Федерация    Бензин             2  ...         NaN  \\\n",
       "25630  Республика Казахстан    Бензин           1,6  ...         NaN   \n",
       "16165  Республика Казахстан    Бензин         1,248  ...         NaN   \n",
       "4509   Республика Казахстан    Бензин       1,6 MPI  ...   Физ. Лицо   \n",
       "36616  Российская Федерация    Бензин           2.0  ...   Физ. Лицо   \n",
       "\n",
       "      payment_type quantity    price_usd sell_price_usd   \n",
       "21444          NaN      1.0  16805.50550    16805.50550  \\\n",
       "25630          NaN      6.0  13900.00000    83400.00000   \n",
       "16165          NaN      2.0  10900.00000    21800.00000   \n",
       "4509        кредит      1.0  18334.53456    18334.53456   \n",
       "36616          NaN      1.0  26273.46560    26273.46560   \n",
       "\n",
       "                       state         segment_2013          class_2013   \n",
       "21444   Павлодарская область         Внедорожники  Полноразмерные SUV  \\\n",
       "25630               г.Алматы  Легковые автомобили             B класс   \n",
       "16165               г.Алматы  Легковые автомобили             A класс   \n",
       "4509   Мангистауская область  Легковые автомобили             B класс   \n",
       "36616           г.Нур-Султан         Внедорожники      Компактные SUV   \n",
       "\n",
       "       segment_eng    product_localization  \n",
       "21444           K3                  Импорт  \n",
       "25630            B  Локальное производство  \n",
       "16165            A  Локальное производство  \n",
       "4509             B  Локальное производство  \n",
       "36616           K1                  Импорт  \n",
       "\n",
       "[5 rows x 25 columns]"
      ]
     },
     "execution_count": 12,
     "metadata": {},
     "output_type": "execute_result"
    }
   ],
   "source": [
    "# проверяем\n",
    "df.sample(5)"
   ]
  },
  {
   "cell_type": "markdown",
   "id": "a52f47e4",
   "metadata": {},
   "source": [
    "<font face='Liberation serif' size=4>**Посмотрим на пропуски**</font>"
   ]
  },
  {
   "cell_type": "code",
   "execution_count": 13,
   "id": "0e24c701",
   "metadata": {},
   "outputs": [
    {
     "data": {
      "text/plain": [
       "year                         0\n",
       "month                        0\n",
       "company                      0\n",
       "brand                        0\n",
       "model                        0\n",
       "modification              3591\n",
       "release_year               501\n",
       "manufacturing_country        0\n",
       "fuel_type                 3140\n",
       "engine_volume             4258\n",
       "transmission_type         3255\n",
       "drive_type                4289\n",
       "segment                   6761\n",
       "region                       0\n",
       "dealer                       0\n",
       "client_type               7047\n",
       "payment_type             25928\n",
       "quantity                     6\n",
       "price_usd                    0\n",
       "sell_price_usd               0\n",
       "state                        0\n",
       "segment_2013                 0\n",
       "class_2013                   0\n",
       "segment_eng                  0\n",
       "product_localization         0\n",
       "dtype: int64"
      ]
     },
     "execution_count": 13,
     "metadata": {},
     "output_type": "execute_result"
    }
   ],
   "source": [
    "df.isna().sum()"
   ]
  },
  {
   "cell_type": "markdown",
   "id": "1598ec40",
   "metadata": {},
   "source": [
    "<font face='Liberation serif' size=4>**Удаляем колонки**</font>"
   ]
  },
  {
   "cell_type": "code",
   "execution_count": 14,
   "id": "dc63aaea",
   "metadata": {},
   "outputs": [],
   "source": [
    "df = df.drop(columns=['dealer', 'payment_type', 'segment', 'segment_eng', 'product_localization', 'client_type', 'modification'])"
   ]
  },
  {
   "cell_type": "markdown",
   "id": "ae1d0209",
   "metadata": {},
   "source": [
    "<font face='Liberation serif' size=4>Удаляем локализацию, так как она легко восстанавливается по колонке страна-производитель, сегменты (кроме 2013), типы клиентов и типы оплат заказчику были не важны - удаляем, для скорости заказчик решил не восстаналивать данные по модификациям машин, поэтому удаляем пропуски.</font>"
   ]
  },
  {
   "cell_type": "code",
   "execution_count": 15,
   "id": "00fa5ae6",
   "metadata": {},
   "outputs": [],
   "source": [
    "# удаляем оставшиеся пропущенные значения\n",
    "df = df.dropna()"
   ]
  },
  {
   "cell_type": "code",
   "execution_count": 16,
   "id": "9e6138db",
   "metadata": {},
   "outputs": [
    {
     "data": {
      "text/plain": [
       "(34846, 18)"
      ]
     },
     "execution_count": 16,
     "metadata": {},
     "output_type": "execute_result"
    }
   ],
   "source": [
    "# посмотрим на остатки данных\n",
    "end_shape = df.shape\n",
    "end_shape"
   ]
  },
  {
   "cell_type": "code",
   "execution_count": 17,
   "id": "df6b66a4",
   "metadata": {},
   "outputs": [
    {
     "name": "stdout",
     "output_type": "stream",
     "text": [
      "Потери количества продаж: 12.81%\n"
     ]
    }
   ],
   "source": [
    "print(f'Потери количества продаж: {(start_shape[0] - end_shape[0]) / start_shape[0]:.2%}')"
   ]
  },
  {
   "cell_type": "markdown",
   "id": "122034fb",
   "metadata": {},
   "source": [
    "<font face='Liberation serif' size=4>В итоге теряем порядка 13 процентов базы. Для общего анализа по брендам модификации не важны, так что для вводной части мы не будем удалять пропуски (сделаем отдельное исследование, где используем данные с пропусками)</font>"
   ]
  },
  {
   "cell_type": "code",
   "execution_count": 18,
   "id": "7946d353",
   "metadata": {},
   "outputs": [
    {
     "data": {
      "text/plain": [
       "year                     0\n",
       "month                    0\n",
       "company                  0\n",
       "brand                    0\n",
       "model                    0\n",
       "release_year             0\n",
       "manufacturing_country    0\n",
       "fuel_type                0\n",
       "engine_volume            0\n",
       "transmission_type        0\n",
       "drive_type               0\n",
       "region                   0\n",
       "quantity                 0\n",
       "price_usd                0\n",
       "sell_price_usd           0\n",
       "state                    0\n",
       "segment_2013             0\n",
       "class_2013               0\n",
       "dtype: int64"
      ]
     },
     "execution_count": 18,
     "metadata": {},
     "output_type": "execute_result"
    }
   ],
   "source": [
    "df.isna().sum()"
   ]
  },
  {
   "cell_type": "markdown",
   "id": "3cb40bb3",
   "metadata": {},
   "source": [
    "<font face='Liberation serif' size=4>**Пройдемся по столбцам**</font>"
   ]
  },
  {
   "cell_type": "markdown",
   "id": "07a3612e",
   "metadata": {},
   "source": [
    "<font face='Liberation serif' size=4 color='blue'>*Закодируем <b>страны-производители</b>*</font>"
   ]
  },
  {
   "cell_type": "code",
   "execution_count": 19,
   "id": "6ff481c7",
   "metadata": {},
   "outputs": [
    {
     "data": {
      "text/plain": [
       "array(['Германия', 'США', 'Австрия', 'Республика Казахстан',\n",
       "       'Российская Федерация', 'Корея', 'Япония', 'UK', 'Венгрия',\n",
       "       'Турция', 'Испания', 'Таиланд', 'Узбекистан', 'Польша', 'Швеция',\n",
       "       'Белоруссия', 'Китай', 'Бельгия'], dtype=object)"
      ]
     },
     "execution_count": 19,
     "metadata": {},
     "output_type": "execute_result"
    }
   ],
   "source": [
    "# смотрим на уникальные значения в столбце\n",
    "df.manufacturing_country.unique()"
   ]
  },
  {
   "cell_type": "code",
   "execution_count": 20,
   "id": "d57c5668",
   "metadata": {},
   "outputs": [],
   "source": [
    "# выгружаем значения в список \n",
    "countries_start = df.manufacturing_country.unique().tolist()"
   ]
  },
  {
   "cell_type": "code",
   "execution_count": 21,
   "id": "ad5feaa8",
   "metadata": {},
   "outputs": [
    {
     "data": {
      "text/plain": [
       "['Германия',\n",
       " 'США',\n",
       " 'Австрия',\n",
       " 'Республика Казахстан',\n",
       " 'Российская Федерация',\n",
       " 'Корея',\n",
       " 'Япония',\n",
       " 'UK',\n",
       " 'Венгрия',\n",
       " 'Турция',\n",
       " 'Испания',\n",
       " 'Таиланд',\n",
       " 'Узбекистан',\n",
       " 'Польша',\n",
       " 'Швеция',\n",
       " 'Белоруссия',\n",
       " 'Китай',\n",
       " 'Бельгия']"
      ]
     },
     "execution_count": 21,
     "metadata": {},
     "output_type": "execute_result"
    }
   ],
   "source": [
    "# открываем список для подсказки\n",
    "countries_start"
   ]
  },
  {
   "cell_type": "code",
   "execution_count": 22,
   "id": "9079e138",
   "metadata": {},
   "outputs": [],
   "source": [
    "# качаем кодировку стран в виде название страны - трехбуквенный код\n",
    "# я прошелся по трем сайтам - с сайта Лебедева таблица отлично скачалась методом панд read_html\n",
    "# данные скачались в виде списка, по опыту знаю, что таблица обычно первым элементом идет (индекс 0)\n",
    "# поэтому добавляем нулевой индекс и оставляем три столбца, которые нам необходимы: название, полное название, код страны\n",
    "countries_list = (\n",
    "    pd.read_html('https://www.artlebedev.ru/country-list/', encoding='utf8')[0]\n",
    "                  [['Наименование', 'Полное наименование', 'Alpha3']]\n",
    "                  .rename(columns={'Наименование':'name', 'Полное наименование':'full_name'})\n",
    ")"
   ]
  },
  {
   "cell_type": "code",
   "execution_count": 23,
   "id": "af56f855",
   "metadata": {},
   "outputs": [],
   "source": [
    "# выбираем из списка страны, которые нам нужны из столбцов имя и полное имя, так как в датасете названия корявые\n",
    "countries_change_list = countries_list.query('name in @countries_start | full_name in @countries_start')"
   ]
  },
  {
   "cell_type": "code",
   "execution_count": 24,
   "id": "eb5e7f4c",
   "metadata": {},
   "outputs": [
    {
     "data": {
      "text/html": [
       "<div>\n",
       "<style scoped>\n",
       "    .dataframe tbody tr th:only-of-type {\n",
       "        vertical-align: middle;\n",
       "    }\n",
       "\n",
       "    .dataframe tbody tr th {\n",
       "        vertical-align: top;\n",
       "    }\n",
       "\n",
       "    .dataframe thead th {\n",
       "        text-align: right;\n",
       "    }\n",
       "</style>\n",
       "<table border=\"1\" class=\"dataframe\">\n",
       "  <thead>\n",
       "    <tr style=\"text-align: right;\">\n",
       "      <th></th>\n",
       "      <th>name</th>\n",
       "      <th>full_name</th>\n",
       "      <th>Alpha3</th>\n",
       "    </tr>\n",
       "  </thead>\n",
       "  <tbody>\n",
       "    <tr>\n",
       "      <th>2</th>\n",
       "      <td>Австрия</td>\n",
       "      <td>Австрийская Республика</td>\n",
       "      <td>AUT</td>\n",
       "    </tr>\n",
       "    <tr>\n",
       "      <th>22</th>\n",
       "      <td>Бельгия</td>\n",
       "      <td>Королевство Бельгии</td>\n",
       "      <td>BEL</td>\n",
       "    </tr>\n",
       "    <tr>\n",
       "      <th>37</th>\n",
       "      <td>Венгрия</td>\n",
       "      <td>Венгерская Республика</td>\n",
       "      <td>HUN</td>\n",
       "    </tr>\n",
       "    <tr>\n",
       "      <th>51</th>\n",
       "      <td>Германия</td>\n",
       "      <td>Федеративная Республика Германия</td>\n",
       "      <td>DEU</td>\n",
       "    </tr>\n",
       "    <tr>\n",
       "      <th>78</th>\n",
       "      <td>Испания</td>\n",
       "      <td>Королевство Испания</td>\n",
       "      <td>ESP</td>\n",
       "    </tr>\n",
       "    <tr>\n",
       "      <th>82</th>\n",
       "      <td>Казахстан</td>\n",
       "      <td>Республика Казахстан</td>\n",
       "      <td>KAZ</td>\n",
       "    </tr>\n",
       "    <tr>\n",
       "      <th>91</th>\n",
       "      <td>Китай</td>\n",
       "      <td>Китайская Народная Республика</td>\n",
       "      <td>CHN</td>\n",
       "    </tr>\n",
       "    <tr>\n",
       "      <th>165</th>\n",
       "      <td>Польша</td>\n",
       "      <td>Республика Польша</td>\n",
       "      <td>POL</td>\n",
       "    </tr>\n",
       "    <tr>\n",
       "      <th>170</th>\n",
       "      <td>Россия</td>\n",
       "      <td>Российская Федерация</td>\n",
       "      <td>RUS</td>\n",
       "    </tr>\n",
       "    <tr>\n",
       "      <th>201</th>\n",
       "      <td>Таиланд</td>\n",
       "      <td>Королевство Таиланд</td>\n",
       "      <td>THA</td>\n",
       "    </tr>\n",
       "    <tr>\n",
       "      <th>212</th>\n",
       "      <td>Турция</td>\n",
       "      <td>Турецкая Республика</td>\n",
       "      <td>TUR</td>\n",
       "    </tr>\n",
       "    <tr>\n",
       "      <th>214</th>\n",
       "      <td>Узбекистан</td>\n",
       "      <td>Республика Узбекистан</td>\n",
       "      <td>UZB</td>\n",
       "    </tr>\n",
       "    <tr>\n",
       "      <th>234</th>\n",
       "      <td>Швеция</td>\n",
       "      <td>Королевство Швеция</td>\n",
       "      <td>SWE</td>\n",
       "    </tr>\n",
       "    <tr>\n",
       "      <th>250</th>\n",
       "      <td>Япония</td>\n",
       "      <td>NaN</td>\n",
       "      <td>JPN</td>\n",
       "    </tr>\n",
       "  </tbody>\n",
       "</table>\n",
       "</div>"
      ],
      "text/plain": [
       "           name                         full_name Alpha3\n",
       "2       Австрия            Австрийская Республика    AUT\n",
       "22      Бельгия               Королевство Бельгии    BEL\n",
       "37      Венгрия             Венгерская Республика    HUN\n",
       "51     Германия  Федеративная Республика Германия    DEU\n",
       "78      Испания               Королевство Испания    ESP\n",
       "82    Казахстан              Республика Казахстан    KAZ\n",
       "91        Китай     Китайская Народная Республика    CHN\n",
       "165      Польша                 Республика Польша    POL\n",
       "170      Россия              Российская Федерация    RUS\n",
       "201     Таиланд               Королевство Таиланд    THA\n",
       "212      Турция               Турецкая Республика    TUR\n",
       "214  Узбекистан             Республика Узбекистан    UZB\n",
       "234      Швеция                Королевство Швеция    SWE\n",
       "250      Япония                               NaN    JPN"
      ]
     },
     "execution_count": 24,
     "metadata": {},
     "output_type": "execute_result"
    }
   ],
   "source": [
    "# проверяем - не хватает 4 стран - добавим их в словарь руками, так как это быстрее нежели автоматизация\n",
    "countries_change_list"
   ]
  },
  {
   "cell_type": "code",
   "execution_count": 25,
   "id": "1df2569e",
   "metadata": {},
   "outputs": [],
   "source": [
    "# делаем два словаря: по имени страны и по полному имени страны\n",
    "countries_change_dict = {k:v for k, v in zip(countries_change_list.name, countries_change_list.Alpha3)}\n",
    "countries_change_dict_full = {k:v for k, v in zip(countries_change_list.full_name, countries_change_list.Alpha3)}"
   ]
  },
  {
   "cell_type": "code",
   "execution_count": 26,
   "id": "41258a08",
   "metadata": {},
   "outputs": [],
   "source": [
    "# добавляем недостающие страны в любой из словарей\n",
    "countries_change_dict['UK'] = 'UK'\n",
    "countries_change_dict['США'] = 'USA'\n",
    "countries_change_dict['Корея'] = 'KOR'\n",
    "countries_change_dict['Белоруссия'] = 'BLR'"
   ]
  },
  {
   "cell_type": "code",
   "execution_count": 27,
   "id": "2f0f853b",
   "metadata": {},
   "outputs": [],
   "source": [
    "# применяем оба словаря к столбцу страны\n",
    "df.manufacturing_country = df.manufacturing_country.map(lambda x: countries_change_dict.get(x, x))\n",
    "df.manufacturing_country = df.manufacturing_country.map(lambda x: countries_change_dict_full.get(x, x))"
   ]
  },
  {
   "cell_type": "code",
   "execution_count": 28,
   "id": "9a63a85e",
   "metadata": {},
   "outputs": [
    {
     "data": {
      "text/plain": [
       "array(['DEU', 'USA', 'AUT', 'KAZ', 'RUS', 'KOR', 'JPN', 'UK', 'HUN',\n",
       "       'TUR', 'ESP', 'THA', 'UZB', 'POL', 'SWE', 'BLR', 'CHN', 'BEL'],\n",
       "      dtype=object)"
      ]
     },
     "execution_count": 28,
     "metadata": {},
     "output_type": "execute_result"
    }
   ],
   "source": [
    "# проверяем - все страны перекодировались - отсутствующих данных нет (NaN)\n",
    "df.manufacturing_country.unique()"
   ]
  },
  {
   "cell_type": "markdown",
   "id": "0fda033a",
   "metadata": {},
   "source": [
    "<font face='Liberation serif' size=4 color='blue'>*Закодируем <strong>тип топлива</strong>*</font>"
   ]
  },
  {
   "cell_type": "code",
   "execution_count": 29,
   "id": "e0ed64a2",
   "metadata": {},
   "outputs": [
    {
     "data": {
      "text/plain": [
       "array(['Бензин', 'Дизель', 'дизель ', 'бензин ', 'гибрид', '2', '1,6',\n",
       "       '0', 'Электро'], dtype=object)"
      ]
     },
     "execution_count": 29,
     "metadata": {},
     "output_type": "execute_result"
    }
   ],
   "source": [
    "# Смотрим на уникальные значения\n",
    "df.fuel_type.unique()"
   ]
  },
  {
   "cell_type": "code",
   "execution_count": 30,
   "id": "f7e74e58",
   "metadata": {},
   "outputs": [
    {
     "data": {
      "text/plain": [
       "(40, 18)"
      ]
     },
     "execution_count": 30,
     "metadata": {},
     "output_type": "execute_result"
    }
   ],
   "source": [
    "# Смотрим на количество аномалий в столбце: 1.6, 2 и так далее\n",
    "df.query('fuel_type in [\"1,6\", \"0\", \"2\"]').shape"
   ]
  },
  {
   "cell_type": "markdown",
   "id": "28462344",
   "metadata": {},
   "source": [
    "<font face='Liberation serif' size=4>Всего 40 - удаляем</font>"
   ]
  },
  {
   "cell_type": "code",
   "execution_count": 31,
   "id": "78706de2",
   "metadata": {},
   "outputs": [],
   "source": [
    "df = df.query('fuel_type not in [\"1,6\", \"0\", \"2\"]')"
   ]
  },
  {
   "cell_type": "code",
   "execution_count": 32,
   "id": "92483545",
   "metadata": {},
   "outputs": [],
   "source": [
    "# Приводим названия к нижнему регистру и заменяем электричество на электро (короче название - меньше памяти используется)\n",
    "df.fuel_type = df.fuel_type.str.lower().str.replace('электричество', 'электро').str.replace(' ', '')"
   ]
  },
  {
   "cell_type": "code",
   "execution_count": 33,
   "id": "d6740bf0",
   "metadata": {},
   "outputs": [
    {
     "data": {
      "text/plain": [
       "array(['бензин', 'дизель', 'гибрид', 'электро'], dtype=object)"
      ]
     },
     "execution_count": 33,
     "metadata": {},
     "output_type": "execute_result"
    }
   ],
   "source": [
    "# проверяем - все ок\n",
    "df.fuel_type.unique()"
   ]
  },
  {
   "cell_type": "code",
   "execution_count": 34,
   "id": "f183cfde",
   "metadata": {},
   "outputs": [],
   "source": [
    "# кодируем названия\n",
    "df.fuel_type = df.fuel_type.str.lower().map({'бензин':'F', 'дизель':'D', 'электро':'E', 'гибрид':'HYB'})"
   ]
  },
  {
   "cell_type": "code",
   "execution_count": 35,
   "id": "2c37414c",
   "metadata": {},
   "outputs": [
    {
     "data": {
      "text/plain": [
       "array(['F', 'D', 'HYB', 'E'], dtype=object)"
      ]
     },
     "execution_count": 35,
     "metadata": {},
     "output_type": "execute_result"
    }
   ],
   "source": [
    "# проверяем замены\n",
    "df.fuel_type.unique()"
   ]
  },
  {
   "cell_type": "markdown",
   "id": "0efb9f31",
   "metadata": {},
   "source": [
    "<font face='Liberation serif' size=4 color='blue'>*Разберемся с <b>типом привода</b>*</font>"
   ]
  },
  {
   "cell_type": "code",
   "execution_count": 36,
   "id": "773de8bd",
   "metadata": {},
   "outputs": [
    {
     "data": {
      "text/plain": [
       "array(['передний', 'FWD', 'quattro', 'Задний', 'Полный', 'AWD',\n",
       "       'Передний', '4WD', '4х2.2', 'RWD', '2 WD', '2WD', '4 WD', '4X2',\n",
       "       'Передний (FF)', 'FF', '#Н/Д', 'полный', '4Motion'], dtype=object)"
      ]
     },
     "execution_count": 36,
     "metadata": {},
     "output_type": "execute_result"
    }
   ],
   "source": [
    "# смотрим на уникальные значения - видно, что сборка была из нескольких баз: полный хаос\n",
    "df.drive_type.unique()"
   ]
  },
  {
   "cell_type": "code",
   "execution_count": 37,
   "id": "724ce5cf",
   "metadata": {},
   "outputs": [
    {
     "data": {
      "text/plain": [
       "(4, 18)"
      ]
     },
     "execution_count": 37,
     "metadata": {},
     "output_type": "execute_result"
    }
   ],
   "source": [
    "# смотрим на количество значений #НД - их всего 4 - удаляем \n",
    "df.query('drive_type == \"#Н/Д\"').shape"
   ]
  },
  {
   "cell_type": "code",
   "execution_count": 38,
   "id": "af4c2774",
   "metadata": {},
   "outputs": [],
   "source": [
    "def change_drive_type(cell):\n",
    "    '''\n",
    "    функция для приведения значений столбца привод к единому формату\n",
    "    argument (cell): ячейка столбца 'drive_type'\n",
    "    '''\n",
    "    if cell in ['4WD', 'quattro', 'Полный', 'полный', 'AWD', '4 WD', '4Motion']:\n",
    "        return '4WD'\n",
    "    if cell in ['передний', 'FWD', 'Передний', 'Передний (FF)', 'FF']:\n",
    "        return 'FWD'\n",
    "    if cell in ['Задний', 'RWD']:\n",
    "        return 'RWD'\n",
    "    if cell in ['4х2.2', '2 WD', '2WD', '4X2']:\n",
    "        return '2WD'\n",
    "    else:\n",
    "        return np.NaN"
   ]
  },
  {
   "cell_type": "code",
   "execution_count": 39,
   "id": "3a38d634",
   "metadata": {},
   "outputs": [],
   "source": [
    "# применяем функцию для очистки значений\n",
    "df.drive_type = df.drive_type.apply(change_drive_type)"
   ]
  },
  {
   "cell_type": "code",
   "execution_count": 40,
   "id": "39b6cb3e",
   "metadata": {},
   "outputs": [
    {
     "data": {
      "text/plain": [
       "array(['FWD', '4WD', 'RWD', '2WD', nan], dtype=object)"
      ]
     },
     "execution_count": 40,
     "metadata": {},
     "output_type": "execute_result"
    }
   ],
   "source": [
    "# проверяем\n",
    "df.drive_type.unique()"
   ]
  },
  {
   "cell_type": "code",
   "execution_count": 41,
   "id": "748c55b7",
   "metadata": {},
   "outputs": [
    {
     "data": {
      "text/plain": [
       "4"
      ]
     },
     "execution_count": 41,
     "metadata": {},
     "output_type": "execute_result"
    }
   ],
   "source": [
    "df.drive_type.isna().sum()"
   ]
  },
  {
   "cell_type": "code",
   "execution_count": 42,
   "id": "52263510",
   "metadata": {},
   "outputs": [],
   "source": [
    "# удаляем данные,которые были НД\n",
    "df = df.dropna()"
   ]
  },
  {
   "cell_type": "markdown",
   "id": "9427761c",
   "metadata": {},
   "source": [
    "<font face='Liberation serif' size=4 color='blue'>*Приведем колонки <b>количество, стоимость</b> и <b>итоговая стоимость</b> к числовым типам данных, количество к int, так продаются целые машины*</font>"
   ]
  },
  {
   "cell_type": "code",
   "execution_count": 43,
   "id": "4c5bdd28",
   "metadata": {},
   "outputs": [
    {
     "data": {
      "text/plain": [
       "array([  1.,   2.,   4.,   3.,   7.,   5.,   8.,  10.,   6.,   9.,  11.,\n",
       "        18.,  37.,  12.,  17.,  15.,  24.,  29.,  14.,  13.,  25.,  63.,\n",
       "        23.,  30.,  21.,  60.,  22.,  16.,  19.,  35.,  28.,  32.,  54.,\n",
       "       115.,  46.,  33.,  47.,  20.,  66.,  27.,  50.,  36.,  26.,  31.,\n",
       "        34.,  40.,  43.,  51.,  42.,  38.,  41., 100.,  -1.])"
      ]
     },
     "execution_count": 43,
     "metadata": {},
     "output_type": "execute_result"
    }
   ],
   "source": [
    "# посмотрим на значения в столбце: есть минус один и сто - проверим\n",
    "df.quantity.unique()"
   ]
  },
  {
   "cell_type": "code",
   "execution_count": 44,
   "id": "7bed8dfe",
   "metadata": {},
   "outputs": [
    {
     "data": {
      "text/html": [
       "<div>\n",
       "<style scoped>\n",
       "    .dataframe tbody tr th:only-of-type {\n",
       "        vertical-align: middle;\n",
       "    }\n",
       "\n",
       "    .dataframe tbody tr th {\n",
       "        vertical-align: top;\n",
       "    }\n",
       "\n",
       "    .dataframe thead th {\n",
       "        text-align: right;\n",
       "    }\n",
       "</style>\n",
       "<table border=\"1\" class=\"dataframe\">\n",
       "  <thead>\n",
       "    <tr style=\"text-align: right;\">\n",
       "      <th></th>\n",
       "      <th>year</th>\n",
       "      <th>month</th>\n",
       "      <th>company</th>\n",
       "      <th>brand</th>\n",
       "      <th>model</th>\n",
       "      <th>release_year</th>\n",
       "      <th>manufacturing_country</th>\n",
       "      <th>fuel_type</th>\n",
       "      <th>engine_volume</th>\n",
       "      <th>transmission_type</th>\n",
       "      <th>drive_type</th>\n",
       "      <th>region</th>\n",
       "      <th>quantity</th>\n",
       "      <th>price_usd</th>\n",
       "      <th>sell_price_usd</th>\n",
       "      <th>state</th>\n",
       "      <th>segment_2013</th>\n",
       "      <th>class_2013</th>\n",
       "    </tr>\n",
       "  </thead>\n",
       "  <tbody>\n",
       "    <tr>\n",
       "      <th>25728</th>\n",
       "      <td>2019</td>\n",
       "      <td>Август</td>\n",
       "      <td>БИПЭК АВТО</td>\n",
       "      <td>Skoda</td>\n",
       "      <td>Superb</td>\n",
       "      <td>2019</td>\n",
       "      <td>KAZ</td>\n",
       "      <td>F</td>\n",
       "      <td>2</td>\n",
       "      <td>6DSG</td>\n",
       "      <td>4WD</td>\n",
       "      <td>Тараз</td>\n",
       "      <td>-1.0</td>\n",
       "      <td>35588.25</td>\n",
       "      <td>-35588.25</td>\n",
       "      <td>Жамбылская область</td>\n",
       "      <td>Легковые автомобили</td>\n",
       "      <td>D класс</td>\n",
       "    </tr>\n",
       "  </tbody>\n",
       "</table>\n",
       "</div>"
      ],
      "text/plain": [
       "       year   month     company  brand   model release_year   \n",
       "25728  2019  Август  БИПЭК АВТО  Skoda  Superb         2019  \\\n",
       "\n",
       "      manufacturing_country fuel_type engine_volume transmission_type   \n",
       "25728                   KAZ         F             2              6DSG  \\\n",
       "\n",
       "      drive_type region  quantity  price_usd  sell_price_usd   \n",
       "25728        4WD  Тараз      -1.0   35588.25       -35588.25  \\\n",
       "\n",
       "                    state         segment_2013 class_2013  \n",
       "25728  Жамбылская область  Легковые автомобили    D класс  "
      ]
     },
     "execution_count": 44,
     "metadata": {},
     "output_type": "execute_result"
    }
   ],
   "source": [
    "# это скорее всего возврат машины - удалим его\n",
    "df.query('quantity == -1')"
   ]
  },
  {
   "cell_type": "code",
   "execution_count": 45,
   "id": "2a172d94",
   "metadata": {},
   "outputs": [],
   "source": [
    "df = df.query('quantity != -1')"
   ]
  },
  {
   "cell_type": "code",
   "execution_count": 46,
   "id": "440345f7",
   "metadata": {},
   "outputs": [
    {
     "data": {
      "text/html": [
       "<div>\n",
       "<style scoped>\n",
       "    .dataframe tbody tr th:only-of-type {\n",
       "        vertical-align: middle;\n",
       "    }\n",
       "\n",
       "    .dataframe tbody tr th {\n",
       "        vertical-align: top;\n",
       "    }\n",
       "\n",
       "    .dataframe thead th {\n",
       "        text-align: right;\n",
       "    }\n",
       "</style>\n",
       "<table border=\"1\" class=\"dataframe\">\n",
       "  <thead>\n",
       "    <tr style=\"text-align: right;\">\n",
       "      <th></th>\n",
       "      <th>year</th>\n",
       "      <th>month</th>\n",
       "      <th>company</th>\n",
       "      <th>brand</th>\n",
       "      <th>model</th>\n",
       "      <th>release_year</th>\n",
       "      <th>manufacturing_country</th>\n",
       "      <th>fuel_type</th>\n",
       "      <th>engine_volume</th>\n",
       "      <th>transmission_type</th>\n",
       "      <th>drive_type</th>\n",
       "      <th>region</th>\n",
       "      <th>quantity</th>\n",
       "      <th>price_usd</th>\n",
       "      <th>sell_price_usd</th>\n",
       "      <th>state</th>\n",
       "      <th>segment_2013</th>\n",
       "      <th>class_2013</th>\n",
       "    </tr>\n",
       "  </thead>\n",
       "  <tbody>\n",
       "    <tr>\n",
       "      <th>25555</th>\n",
       "      <td>2019</td>\n",
       "      <td>Июль</td>\n",
       "      <td>БИПЭК АВТО</td>\n",
       "      <td>Skoda</td>\n",
       "      <td>Octavia</td>\n",
       "      <td>2019</td>\n",
       "      <td>KAZ</td>\n",
       "      <td>F</td>\n",
       "      <td>1,4</td>\n",
       "      <td>6MT</td>\n",
       "      <td>FWD</td>\n",
       "      <td>Тараз</td>\n",
       "      <td>100.0</td>\n",
       "      <td>18700.0</td>\n",
       "      <td>1870000.0</td>\n",
       "      <td>Жамбылская область</td>\n",
       "      <td>Легковые автомобили</td>\n",
       "      <td>C класс</td>\n",
       "    </tr>\n",
       "  </tbody>\n",
       "</table>\n",
       "</div>"
      ],
      "text/plain": [
       "       year month     company  brand    model release_year   \n",
       "25555  2019  Июль  БИПЭК АВТО  Skoda  Octavia         2019  \\\n",
       "\n",
       "      manufacturing_country fuel_type engine_volume transmission_type   \n",
       "25555                   KAZ         F           1,4               6MT  \\\n",
       "\n",
       "      drive_type region  quantity  price_usd  sell_price_usd   \n",
       "25555        FWD  Тараз     100.0    18700.0       1870000.0  \\\n",
       "\n",
       "                    state         segment_2013 class_2013  \n",
       "25555  Жамбылская область  Легковые автомобили    C класс  "
      ]
     },
     "execution_count": 46,
     "metadata": {},
     "output_type": "execute_result"
    }
   ],
   "source": [
    "# тут скорее всего оптовик - судя по Scoda Octavia с двигателем 1.4 и механической коробкой передач - таксопарк\n",
    "df.query('quantity == 100')"
   ]
  },
  {
   "cell_type": "code",
   "execution_count": 47,
   "id": "82fafcc4",
   "metadata": {},
   "outputs": [],
   "source": [
    "# вариант смены типа данных номер один\n",
    "df.quantity = df.quantity.astype('int')"
   ]
  },
  {
   "cell_type": "code",
   "execution_count": 48,
   "id": "3eabe9f5",
   "metadata": {},
   "outputs": [],
   "source": [
    "# вариант приведения к числовому типу данных номер два - из плюсов можно прописать поведение при ошибках преобразования\n",
    "# параметромs errors, тип данных указывается в downcast\n",
    "for col in ['price_usd', 'sell_price_usd']:\n",
    "    df[col] = pd.to_numeric(df[col])"
   ]
  },
  {
   "cell_type": "markdown",
   "id": "1c5c6029",
   "metadata": {},
   "source": [
    "<font face='Liberation serif' size=4 color='blue'>*Создадим единый столбец даты продажи из столбцов год и месяц*</font>"
   ]
  },
  {
   "cell_type": "code",
   "execution_count": 49,
   "id": "63041831",
   "metadata": {},
   "outputs": [
    {
     "data": {
      "text/plain": [
       "array(['Май', 'Август', 'Апрель', 'Июль', 'Февраль', 'Июнь', 'Сентябрь',\n",
       "       'Январь', 'Март'], dtype=object)"
      ]
     },
     "execution_count": 49,
     "metadata": {},
     "output_type": "execute_result"
    }
   ],
   "source": [
    "df.month.unique()"
   ]
  },
  {
   "cell_type": "code",
   "execution_count": 50,
   "id": "949a022b",
   "metadata": {},
   "outputs": [],
   "source": [
    "df.month = df.month.map({'Май':'05', \n",
    "                        'Август':'08',\n",
    "                        'Апрель':'04',\n",
    "                        'Июль':'07',\n",
    "                        'Февраль':'02',\n",
    "                        'Июнь':'06',\n",
    "                        'Сентябрь':'09',\n",
    "                        'Январь':'01',\n",
    "                        'Март':'03'})"
   ]
  },
  {
   "cell_type": "code",
   "execution_count": 51,
   "id": "1a7133b9",
   "metadata": {},
   "outputs": [],
   "source": [
    "# создаем столбец дата продажи путем совмещения столбцов год и месяц, а чтобы дата попадала под типовой формат,\n",
    "# добавляем еще '01' - день месяца (номер дня неважен, так как все равно внутри месяца разбивки по датам нет)\n",
    "df['sales_date'] = df.year.astype('str') + '-' + df.month + '-01'"
   ]
  },
  {
   "cell_type": "code",
   "execution_count": 52,
   "id": "56885ef8",
   "metadata": {},
   "outputs": [],
   "source": [
    "# приводим столбец к формату дата (dt.date в конце используется, чтобы убрать значение времени из формата, оставив только дату)\n",
    "df['sales_date'] = pd.to_datetime(df.sales_date, format='%Y-%m-%d').dt.date"
   ]
  },
  {
   "cell_type": "markdown",
   "id": "3196a638",
   "metadata": {},
   "source": [
    "<font face='Liberation serif' size=4 color='blue'>*Проверим столбец <b>год выпуска</b>*</font>"
   ]
  },
  {
   "cell_type": "code",
   "execution_count": 53,
   "id": "52e54915",
   "metadata": {},
   "outputs": [
    {
     "data": {
      "text/plain": [
       "array(['2018', '2017', '2019', '2016', '2014', '2013', '2\\xa0018',\n",
       "       '2\\xa0019'], dtype=object)"
      ]
     },
     "execution_count": 53,
     "metadata": {},
     "output_type": "execute_result"
    }
   ],
   "source": [
    "# смотрим на значения - есть два интересных - скорее всего это 2018 и 2019 - просто коряво прочитанные\n",
    "# вопрос по годам так же был задан владельцам - они подтвердили, что 18 и 19 годы\n",
    "df.release_year.unique()"
   ]
  },
  {
   "cell_type": "code",
   "execution_count": 54,
   "id": "1aa8c339",
   "metadata": {},
   "outputs": [],
   "source": [
    "# меняем два значения и приводим столбец к цельночисельному типу\n",
    "df.release_year = df.release_year.replace('2\\xa0018', '2018').replace('2\\xa0019', '2019')\n",
    "df.release_year = df.release_year.astype('int')"
   ]
  },
  {
   "cell_type": "code",
   "execution_count": 55,
   "id": "fade2ff6",
   "metadata": {},
   "outputs": [
    {
     "data": {
      "text/plain": [
       "array([2018, 2017, 2019, 2016, 2014, 2013])"
      ]
     },
     "execution_count": 55,
     "metadata": {},
     "output_type": "execute_result"
    }
   ],
   "source": [
    "# проверям - все отлично заменилось\n",
    "df.release_year.unique()"
   ]
  },
  {
   "cell_type": "markdown",
   "id": "f2b4e270",
   "metadata": {},
   "source": [
    "<font face='Liberation serif' size=4 color='blue'>*Разберем столбец <b>названия компании</b>*</font>"
   ]
  },
  {
   "cell_type": "code",
   "execution_count": 56,
   "id": "2627a4f5",
   "metadata": {},
   "outputs": [
    {
     "data": {
      "text/plain": [
       "array(['Mercur Auto', 'Автоцентр-Бавария', 'БИПЭК АВТО', 'Вираж',\n",
       "       'Eurasia Motor Premium', 'Daewoo Bus Kazakhstan', 'Caspian Motors',\n",
       "       'Каспиан Моторс', 'Astana Motors', 'Astana Motors ',\n",
       "       'Hyundai Com Trans Kazakhstan ', 'Nissan Manufacturing RUS',\n",
       "       'Allur Auto', 'Almaty Motors Premium', 'TERRA MOTORS',\n",
       "       'Toyota Motor Kazakhstan', 'Лифан Моторс Рус', 'Autokapital',\n",
       "       'Автокапитал', 'ММС Рус', 'MMC RUS', 'Mercur Autos',\n",
       "       'Равон Моторс Казахстан', 'Ravon Motors Kazakstan',\n",
       "       'Renault Россия', 'Subaru Kazakhstan', 'Volkswagen Group Rus',\n",
       "       'Автодом Motors KST', 'Автомир-Центр', 'ТОО \"Eurasia Motor Zhaik\"',\n",
       "       'Scandinavian Motors', 'Хино Моторс Казахстан', 'Hino Motors '],\n",
       "      dtype=object)"
      ]
     },
     "execution_count": 56,
     "metadata": {},
     "output_type": "execute_result"
    }
   ],
   "source": [
    "# смотрим на значения - есть дубликаты (русское и английское написание компаний + auto и autos) - меняем \n",
    "# некие моменты по названиям я уточнял у владельцев\n",
    "df.company.unique()"
   ]
  },
  {
   "cell_type": "code",
   "execution_count": 57,
   "id": "b1514240",
   "metadata": {},
   "outputs": [],
   "source": [
    "# если не применять замену по словару, то приходится писать такие гирлянды кода с replace\n",
    "df.company = (\n",
    "    df.company.str.rstrip().replace('Caspian Motors', 'Каспиан Моторс')\n",
    "    .replace('Autokapital', 'Автокапитал')\n",
    "    .replace('MMC RUS', 'ММС Рус')\n",
    "    .replace('Ravon Motors Kazakstan', 'Равон Моторс Казахстан')\n",
    "    .replace('Hino Motors ', 'Хино Моторс Казахстан')\n",
    "    .replace('Hino Motors', 'Хино Моторс Казахстан')\n",
    "    .replace('Mercur Autos', 'Mercur Auto')\n",
    ")"
   ]
  },
  {
   "cell_type": "code",
   "execution_count": 58,
   "id": "19a5c39d",
   "metadata": {},
   "outputs": [
    {
     "data": {
      "text/plain": [
       "array(['Mercur Auto', 'Автоцентр-Бавария', 'БИПЭК АВТО', 'Вираж',\n",
       "       'Eurasia Motor Premium', 'Daewoo Bus Kazakhstan', 'Каспиан Моторс',\n",
       "       'Astana Motors', 'Hyundai Com Trans Kazakhstan',\n",
       "       'Nissan Manufacturing RUS', 'Allur Auto', 'Almaty Motors Premium',\n",
       "       'TERRA MOTORS', 'Toyota Motor Kazakhstan', 'Лифан Моторс Рус',\n",
       "       'Автокапитал', 'ММС Рус', 'Равон Моторс Казахстан',\n",
       "       'Renault Россия', 'Subaru Kazakhstan', 'Volkswagen Group Rus',\n",
       "       'Автодом Motors KST', 'Автомир-Центр', 'ТОО \"Eurasia Motor Zhaik\"',\n",
       "       'Scandinavian Motors', 'Хино Моторс Казахстан'], dtype=object)"
      ]
     },
     "execution_count": 58,
     "metadata": {},
     "output_type": "execute_result"
    }
   ],
   "source": [
    "# проверяем - все замен корректны\n",
    "df.company.unique()"
   ]
  },
  {
   "cell_type": "markdown",
   "id": "75dc3d17",
   "metadata": {},
   "source": [
    "<font face='Liberation serif' size=4 color='blue'>*Проверим столбец <b>объем двигателя</b>*</font>"
   ]
  },
  {
   "cell_type": "code",
   "execution_count": 59,
   "id": "62c3062f",
   "metadata": {},
   "outputs": [
    {
     "data": {
      "text/plain": [
       "array(['1,4', '2', '3', '4,4', '6,6', '1,5', '1,596', '2,4', '1,7',\n",
       "       '26,7', '25,7', '24,7', '23,7', '22,7', '21,7', '20,7', '19,7',\n",
       "       '18,7', '17,7', '16,7', '15,7', '14,7', '13,7', '12,7', '11,7',\n",
       "       '10,7', '9,7', '8,7', '7,7', '6,7', '5,7', '4,7', '3,7', '2,7',\n",
       "       '6,2', '1,4 Turbo', '2,5', '1,6', '2,8', '4,3', '4,3,', '1,6 MPI',\n",
       "       '2,0 MPI', '2,4 GDI', '2,4 MPI', '2,5 CRDI VGT', '2,5 CRDI WGT',\n",
       "       '3,9', '7,5', '12,3', '1,6 T-GDI', '2,0 CRDI', '2.0', '3,5', '5,6',\n",
       "       '3,0 L', '1.6', '1.5', '5', '1,598', '1,248', '1,998', '2,359',\n",
       "       '1,999', '3,342', '1,591', '3,47', '1,69', '1,774', '2.5', '2.7 ',\n",
       "       '3.5', '2.7', '4.6', '4,6', '5.7', '1,8', '4', '5,5', '12', '12,8',\n",
       "       '2,2', '1,2', '1,485', '1,33', '4.0', '2.4G', '2,4G', '2.8',\n",
       "       '2,693', '2,0', '3,8', '3.8', '1,2T', '3,6', '7,6', '4,9', '2.0h',\n",
       "       '2,9', '400 Л.С.', '4,98 L,', '4,98', '8,4 L,', '6,7L', '6,5'],\n",
       "      dtype=object)"
      ]
     },
     "execution_count": 59,
     "metadata": {},
     "output_type": "execute_result"
    }
   ],
   "source": [
    "# смотрим на уникальные значения - спасибо большое тем, кто вносил данные - будем чистить\n",
    "df.engine_volume.unique()"
   ]
  },
  {
   "cell_type": "code",
   "execution_count": 60,
   "id": "26f2f824",
   "metadata": {},
   "outputs": [],
   "source": [
    "# разбиваем ячейки на элементы по разделителю пробелу в итоге имеем список списков\n",
    "# ячейки, где есть текст становятся списком из двух элементов - нулевой: объем двигателя, первый: остальные буквы\n",
    "# там где текста нет получается список из одного элемента\n",
    "vol_list = [x.split(' ') for x in df.engine_volume.tolist()]"
   ]
  },
  {
   "cell_type": "code",
   "execution_count": 61,
   "id": "0aaf9008",
   "metadata": {},
   "outputs": [],
   "source": [
    "# создаем новый очищенный список куда мы берем только первые элементы из предыдущего списка\n",
    "clean_vol_list = [x[0] for x in vol_list]"
   ]
  },
  {
   "cell_type": "code",
   "execution_count": 62,
   "id": "c0a7fc67",
   "metadata": {},
   "outputs": [],
   "source": [
    "# создаем новый столбец (мало ли что не так пойдет), если не знали, то создать столбец в датафрейме можно просто передав список\n",
    "df['engine_volume_2'] = clean_vol_list"
   ]
  },
  {
   "cell_type": "code",
   "execution_count": 63,
   "id": "b55c2ce9",
   "metadata": {},
   "outputs": [
    {
     "data": {
      "text/html": [
       "<div>\n",
       "<style scoped>\n",
       "    .dataframe tbody tr th:only-of-type {\n",
       "        vertical-align: middle;\n",
       "    }\n",
       "\n",
       "    .dataframe tbody tr th {\n",
       "        vertical-align: top;\n",
       "    }\n",
       "\n",
       "    .dataframe thead th {\n",
       "        text-align: right;\n",
       "    }\n",
       "</style>\n",
       "<table border=\"1\" class=\"dataframe\">\n",
       "  <thead>\n",
       "    <tr style=\"text-align: right;\">\n",
       "      <th></th>\n",
       "      <th>engine_volume</th>\n",
       "      <th>engine_volume_2</th>\n",
       "    </tr>\n",
       "  </thead>\n",
       "  <tbody>\n",
       "    <tr>\n",
       "      <th>18332</th>\n",
       "      <td>1,774</td>\n",
       "      <td>1,774</td>\n",
       "    </tr>\n",
       "    <tr>\n",
       "      <th>30002</th>\n",
       "      <td>2.5</td>\n",
       "      <td>2.5</td>\n",
       "    </tr>\n",
       "    <tr>\n",
       "      <th>14510</th>\n",
       "      <td>1,6</td>\n",
       "      <td>1,6</td>\n",
       "    </tr>\n",
       "    <tr>\n",
       "      <th>3933</th>\n",
       "      <td>1,6</td>\n",
       "      <td>1,6</td>\n",
       "    </tr>\n",
       "    <tr>\n",
       "      <th>8672</th>\n",
       "      <td>1,6 MPI</td>\n",
       "      <td>1,6</td>\n",
       "    </tr>\n",
       "  </tbody>\n",
       "</table>\n",
       "</div>"
      ],
      "text/plain": [
       "      engine_volume engine_volume_2\n",
       "18332         1,774           1,774\n",
       "30002           2.5             2.5\n",
       "14510           1,6             1,6\n",
       "3933            1,6             1,6\n",
       "8672        1,6 MPI             1,6"
      ]
     },
     "execution_count": 63,
     "metadata": {},
     "output_type": "execute_result"
    }
   ],
   "source": [
    "# если не уверены, что правильно сделали - проверьте (здесь видно, что буквы отсеклись)\n",
    "df[['engine_volume', 'engine_volume_2']].sample(5)"
   ]
  },
  {
   "cell_type": "code",
   "execution_count": 64,
   "id": "8482aac7",
   "metadata": {},
   "outputs": [
    {
     "data": {
      "text/plain": [
       "array(['1,4', '2', '3', '4,4', '6,6', '1,5', '1,596', '2,4', '1,7',\n",
       "       '26,7', '25,7', '24,7', '23,7', '22,7', '21,7', '20,7', '19,7',\n",
       "       '18,7', '17,7', '16,7', '15,7', '14,7', '13,7', '12,7', '11,7',\n",
       "       '10,7', '9,7', '8,7', '7,7', '6,7', '5,7', '4,7', '3,7', '2,7',\n",
       "       '6,2', '2,5', '1,6', '2,8', '4,3', '4,3,', '2,0', '3,9', '7,5',\n",
       "       '12,3', '2.0', '3,5', '5,6', '3,0', '1.6', '1.5', '5', '1,598',\n",
       "       '1,248', '1,998', '2,359', '1,999', '3,342', '1,591', '3,47',\n",
       "       '1,69', '1,774', '2.5', '2.7', '3.5', '4.6', '4,6', '5.7', '1,8',\n",
       "       '4', '5,5', '12', '12,8', '2,2', '1,2', '1,485', '1,33', '4.0',\n",
       "       '2.4G', '2,4G', '2.8', '2,693', '3,8', '3.8', '1,2T', '3,6', '7,6',\n",
       "       '4,9', '2.0h', '2,9', '400', '4,98', '8,4', '6,7L', '6,5'],\n",
       "      dtype=object)"
      ]
     },
     "execution_count": 64,
     "metadata": {},
     "output_type": "execute_result"
    }
   ],
   "source": [
    "# смотрим на оставшиеся значения - буквы остались, так как в этих ячейках нет пробела\n",
    "df.engine_volume_2.unique()"
   ]
  },
  {
   "cell_type": "code",
   "execution_count": 65,
   "id": "bf5f447d",
   "metadata": {},
   "outputs": [
    {
     "data": {
      "text/html": [
       "<div>\n",
       "<style scoped>\n",
       "    .dataframe tbody tr th:only-of-type {\n",
       "        vertical-align: middle;\n",
       "    }\n",
       "\n",
       "    .dataframe tbody tr th {\n",
       "        vertical-align: top;\n",
       "    }\n",
       "\n",
       "    .dataframe thead th {\n",
       "        text-align: right;\n",
       "    }\n",
       "</style>\n",
       "<table border=\"1\" class=\"dataframe\">\n",
       "  <thead>\n",
       "    <tr style=\"text-align: right;\">\n",
       "      <th></th>\n",
       "      <th>year</th>\n",
       "      <th>month</th>\n",
       "      <th>company</th>\n",
       "      <th>brand</th>\n",
       "      <th>model</th>\n",
       "      <th>release_year</th>\n",
       "      <th>manufacturing_country</th>\n",
       "      <th>fuel_type</th>\n",
       "      <th>engine_volume</th>\n",
       "      <th>transmission_type</th>\n",
       "      <th>drive_type</th>\n",
       "      <th>region</th>\n",
       "      <th>quantity</th>\n",
       "      <th>price_usd</th>\n",
       "      <th>sell_price_usd</th>\n",
       "      <th>state</th>\n",
       "      <th>segment_2013</th>\n",
       "      <th>class_2013</th>\n",
       "      <th>sales_date</th>\n",
       "      <th>engine_volume_2</th>\n",
       "    </tr>\n",
       "  </thead>\n",
       "  <tbody>\n",
       "    <tr>\n",
       "      <th>39544</th>\n",
       "      <td>2019</td>\n",
       "      <td>02</td>\n",
       "      <td>Almaty Motors Premium</td>\n",
       "      <td>Jaguar</td>\n",
       "      <td>I-Pace</td>\n",
       "      <td>2019</td>\n",
       "      <td>UK</td>\n",
       "      <td>E</td>\n",
       "      <td>400 Л.С.</td>\n",
       "      <td>РЕДУКТОР</td>\n",
       "      <td>4WD</td>\n",
       "      <td>Алматы</td>\n",
       "      <td>1</td>\n",
       "      <td>117236.9729</td>\n",
       "      <td>117236.9729</td>\n",
       "      <td>г.Алматы</td>\n",
       "      <td>Внедорожники</td>\n",
       "      <td>Компактные SUV</td>\n",
       "      <td>2019-02-01</td>\n",
       "      <td>400</td>\n",
       "    </tr>\n",
       "    <tr>\n",
       "      <th>39545</th>\n",
       "      <td>2019</td>\n",
       "      <td>04</td>\n",
       "      <td>Almaty Motors Premium</td>\n",
       "      <td>Jaguar</td>\n",
       "      <td>I-Pace</td>\n",
       "      <td>2019</td>\n",
       "      <td>UK</td>\n",
       "      <td>E</td>\n",
       "      <td>400 Л.С.</td>\n",
       "      <td>РЕДУКТОР</td>\n",
       "      <td>4WD</td>\n",
       "      <td>Алматы</td>\n",
       "      <td>1</td>\n",
       "      <td>105388.7924</td>\n",
       "      <td>105388.7924</td>\n",
       "      <td>г.Алматы</td>\n",
       "      <td>Внедорожники</td>\n",
       "      <td>Компактные SUV</td>\n",
       "      <td>2019-04-01</td>\n",
       "      <td>400</td>\n",
       "    </tr>\n",
       "    <tr>\n",
       "      <th>39546</th>\n",
       "      <td>2019</td>\n",
       "      <td>06</td>\n",
       "      <td>Almaty Motors Premium</td>\n",
       "      <td>Jaguar</td>\n",
       "      <td>I-Pace</td>\n",
       "      <td>2019</td>\n",
       "      <td>UK</td>\n",
       "      <td>E</td>\n",
       "      <td>400 Л.С.</td>\n",
       "      <td>РЕДУКТОР</td>\n",
       "      <td>4WD</td>\n",
       "      <td>Алматы</td>\n",
       "      <td>1</td>\n",
       "      <td>120413.2793</td>\n",
       "      <td>120413.2793</td>\n",
       "      <td>г.Алматы</td>\n",
       "      <td>Внедорожники</td>\n",
       "      <td>Компактные SUV</td>\n",
       "      <td>2019-06-01</td>\n",
       "      <td>400</td>\n",
       "    </tr>\n",
       "  </tbody>\n",
       "</table>\n",
       "</div>"
      ],
      "text/plain": [
       "       year month                company   brand   model  release_year   \n",
       "39544  2019    02  Almaty Motors Premium  Jaguar  I-Pace          2019  \\\n",
       "39545  2019    04  Almaty Motors Premium  Jaguar  I-Pace          2019   \n",
       "39546  2019    06  Almaty Motors Premium  Jaguar  I-Pace          2019   \n",
       "\n",
       "      manufacturing_country fuel_type engine_volume transmission_type   \n",
       "39544                    UK         E      400 Л.С.          РЕДУКТОР  \\\n",
       "39545                    UK         E      400 Л.С.          РЕДУКТОР   \n",
       "39546                    UK         E      400 Л.С.          РЕДУКТОР   \n",
       "\n",
       "      drive_type  region  quantity    price_usd  sell_price_usd     state   \n",
       "39544        4WD  Алматы         1  117236.9729     117236.9729  г.Алматы  \\\n",
       "39545        4WD  Алматы         1  105388.7924     105388.7924  г.Алматы   \n",
       "39546        4WD  Алматы         1  120413.2793     120413.2793  г.Алматы   \n",
       "\n",
       "       segment_2013      class_2013  sales_date engine_volume_2  \n",
       "39544  Внедорожники  Компактные SUV  2019-02-01             400  \n",
       "39545  Внедорожники  Компактные SUV  2019-04-01             400  \n",
       "39546  Внедорожники  Компактные SUV  2019-06-01             400  "
      ]
     },
     "execution_count": 65,
     "metadata": {},
     "output_type": "execute_result"
    }
   ],
   "source": [
    "# разберемся со значением 400, это не объем двигателя - раньше это было 400 Л.С.\n",
    "df.query('engine_volume_2 == \"400\"')"
   ]
  },
  {
   "cell_type": "markdown",
   "id": "17b8ca46",
   "metadata": {},
   "source": [
    "<font face='Liberation serif' size=4 color='blue'><b>[Характеристики Ягуара I-Pace](https://avilon.ru/brands/jaguar/i-pace/i/krossover/tehnicheskie-harakteristiki/)</b></font>"
   ]
  },
  {
   "cell_type": "code",
   "execution_count": 66,
   "id": "72bf68ed",
   "metadata": {},
   "outputs": [],
   "source": [
    "# у ягуара этой модели двигатель два литра объемом - меняем\n",
    "df.loc[df.engine_volume_2 == \"400\", 'engine_volume_2'] = '2'"
   ]
  },
  {
   "cell_type": "markdown",
   "id": "cde1ff7f",
   "metadata": {},
   "source": [
    "<font face='liberation serif' size=4 color='crimson'>***В принципе три значения можно и удалить. Однако, вы, как аналитики данных, должны уметь находить методы и способы заполнения данных. В данном случае - найти модель ягуара и посмотреть какой объем двигателя у нее. Использовать внешние источники при исследованиях - это хороший тон.***</font>"
   ]
  },
  {
   "cell_type": "code",
   "execution_count": 67,
   "id": "09d33cf2",
   "metadata": {},
   "outputs": [],
   "source": [
    "def clean_volume(cell):\n",
    "    '''\n",
    "    функция остаточной очистки столбца объем двигателя\n",
    "    argument: cell - ячйка столбца engine_volume\n",
    "    '''\n",
    "    if 'h' in cell:\n",
    "        return cell.replace('h', '')\n",
    "    if 'G' in cell:\n",
    "        return cell.replace('G', '')\n",
    "    if 'L' in cell:\n",
    "        return cell.replace('L', '')\n",
    "    if 'T' in cell:\n",
    "        return cell.replace('T', '')\n",
    "    return cell"
   ]
  },
  {
   "cell_type": "code",
   "execution_count": 68,
   "id": "7ee3c82b",
   "metadata": {},
   "outputs": [],
   "source": [
    "# меняем оставшиеся значения с буквами в столбце\n",
    "df.engine_volume_2 = df.engine_volume_2.apply(clean_volume)"
   ]
  },
  {
   "cell_type": "code",
   "execution_count": 69,
   "id": "4ba9eae8",
   "metadata": {},
   "outputs": [
    {
     "data": {
      "text/plain": [
       "array(['1,4', '2', '3', '4,4', '6,6', '1,5', '1,596', '2,4', '1,7',\n",
       "       '26,7', '25,7', '24,7', '23,7', '22,7', '21,7', '20,7', '19,7',\n",
       "       '18,7', '17,7', '16,7', '15,7', '14,7', '13,7', '12,7', '11,7',\n",
       "       '10,7', '9,7', '8,7', '7,7', '6,7', '5,7', '4,7', '3,7', '2,7',\n",
       "       '6,2', '2,5', '1,6', '2,8', '4,3', '4,3,', '2,0', '3,9', '7,5',\n",
       "       '12,3', '2.0', '3,5', '5,6', '3,0', '1.6', '1.5', '5', '1,598',\n",
       "       '1,248', '1,998', '2,359', '1,999', '3,342', '1,591', '3,47',\n",
       "       '1,69', '1,774', '2.5', '2.7', '3.5', '4.6', '4,6', '5.7', '1,8',\n",
       "       '4', '5,5', '12', '12,8', '2,2', '1,2', '1,485', '1,33', '4.0',\n",
       "       '2.4', '2.8', '2,693', '3,8', '3.8', '3,6', '7,6', '4,9', '2,9',\n",
       "       '4,98', '8,4', '6,5'], dtype=object)"
      ]
     },
     "execution_count": 69,
     "metadata": {},
     "output_type": "execute_result"
    }
   ],
   "source": [
    "# проверяем - все ок по большей части\n",
    "df.engine_volume_2.unique()"
   ]
  },
  {
   "cell_type": "code",
   "execution_count": 70,
   "id": "78c992b0",
   "metadata": {},
   "outputs": [],
   "source": [
    "# передаем основному столбцу значения из временного столбца и удаляем его за ненадобностью\n",
    "df.engine_volume = df.engine_volume_2"
   ]
  },
  {
   "cell_type": "code",
   "execution_count": 71,
   "id": "c94666ff",
   "metadata": {},
   "outputs": [],
   "source": [
    "df = df.drop(columns='engine_volume_2')"
   ]
  },
  {
   "cell_type": "code",
   "execution_count": 72,
   "id": "20b4a2b2",
   "metadata": {},
   "outputs": [],
   "source": [
    "# меняем запятые на точки и в одном значении убираем точку в конце\n",
    "df.engine_volume = df.engine_volume.str.replace(',', '.').replace('4.3.', '4.3')"
   ]
  },
  {
   "cell_type": "code",
   "execution_count": 73,
   "id": "012028d8",
   "metadata": {},
   "outputs": [],
   "source": [
    "# приводим столбец к числовому значению\n",
    "df.engine_volume = pd.to_numeric(df.engine_volume)"
   ]
  },
  {
   "cell_type": "markdown",
   "id": "734fb7a7",
   "metadata": {},
   "source": [
    "<font face='Liberation serif' size=4 color='blue'>*Столбец <b>регион</b>*</font>"
   ]
  },
  {
   "cell_type": "code",
   "execution_count": 74,
   "id": "a5324195",
   "metadata": {},
   "outputs": [
    {
     "data": {
      "text/plain": [
       "array(['Алматы', 'Нур-Султан', 'Усть-Каменогорск', 'Уральск', 'Костанай',\n",
       "       'Павлодар', 'Семей', 'Шымкент', 'Актау', 'Атырау', 'Актобе',\n",
       "       'Караганда', 'Петропавловск', 'Кокшетау', 'Рудный', 'Кызылорда',\n",
       "       'Тараз', 'Туркестан', 'Талдыкорган', 'ЭКСПОРТ', 'Каскелен',\n",
       "       'Экибастуз', 'Риддер', 'Сарыагаш'], dtype=object)"
      ]
     },
     "execution_count": 74,
     "metadata": {},
     "output_type": "execute_result"
    }
   ],
   "source": [
    "# смотрим уникальные значения - все хорошо, кроме ЭКСПОРТ - приведем к нормлаьному регистру\n",
    "df.region.unique()"
   ]
  },
  {
   "cell_type": "code",
   "execution_count": 75,
   "id": "931d18ce",
   "metadata": {},
   "outputs": [],
   "source": [
    "# приводим все значения к значению с большой буквы\n",
    "df.region = df.region.str.capitalize()"
   ]
  },
  {
   "cell_type": "markdown",
   "id": "0aeca1f5",
   "metadata": {},
   "source": [
    "<font face='Liberation serif' size=4 color='blue'>*Столбец <b>область</b>*</font>"
   ]
  },
  {
   "cell_type": "code",
   "execution_count": 76,
   "id": "9aeb163a",
   "metadata": {},
   "outputs": [
    {
     "data": {
      "text/plain": [
       "array(['г.Алматы', 'г.Нур-Султан', 'Восточно-Казахстанская область',\n",
       "       'Западно-Казахстанская область', 'Костанайская область',\n",
       "       'Павлодарская область', 'Южно-Казахстанская область',\n",
       "       'Мангистауская область', 'Атырауская область',\n",
       "       'Актюбинская область', 'Карагандинская область',\n",
       "       'Северо-Казахстанская область', 'Акмолинская область',\n",
       "       'Кызылординская область', 'Жамбылская область',\n",
       "       'Туркестанская область', 'Алматинская область', 'Экспорт область'],\n",
       "      dtype=object)"
      ]
     },
     "execution_count": 76,
     "metadata": {},
     "output_type": "execute_result"
    }
   ],
   "source": [
    "# смотрим уникальные значения - экспорт область поменяем на экспорт\n",
    "df.state.unique()"
   ]
  },
  {
   "cell_type": "code",
   "execution_count": 77,
   "id": "ca24a707",
   "metadata": {},
   "outputs": [],
   "source": [
    "df.state = df.state.str.replace('г.', '').str.replace('Экспорт область', 'Экспорт')"
   ]
  },
  {
   "cell_type": "markdown",
   "id": "7adc2473",
   "metadata": {},
   "source": [
    "<font face='Liberation serif' size=4 color='blue'>*Столбец <b>тип трансмиссии</b>*</font>"
   ]
  },
  {
   "cell_type": "code",
   "execution_count": 78,
   "id": "72813a5d",
   "metadata": {},
   "outputs": [
    {
     "data": {
      "text/plain": [
       "array(['S-tronic', 'S-Tronic', 'Tiptronic', 'АКПП', 'АКП', 'Steptronic',\n",
       "       'AT', '6 АТ', '5 МТ', '6АТ', 'MT', '8AT', '5МТ', 'Powershift S6',\n",
       "       '6AT', 'Мех.', '6 AT', '6 MT', '6MT', '5 AT', '5AT', 'МКПП',\n",
       "       '7 DCT', '7DCT', '8 AT', 'МТ', 'CVT', 'DCT', '4 АТ', '6 МТ', '6МТ',\n",
       "       '4АТ', '4AT', '8АТ', '8 АТ', '5MT', 'AMT', 'CVT (вариатор)',\n",
       "       'CVT (вариATор)', 'CVT(вAриATор)', '7G-TRONIC', '9G-TRONIC',\n",
       "       '12AT', '12АТ', '5АТ', '7АТ', '7AT', '6M/T', 'PDK', '8-ступ АКПП',\n",
       "       '8', '8АКПП', '8 АКПП Tiptronic S', '7 АКПП (PDK)', '7 АКПП PDK',\n",
       "       '8 АКПП (PDK)', 'АТ', 'АT', 'МT', '7 DSG', '7DSG', '6 DSG', '6DSG',\n",
       "       'DSG', '6A', '6А', '5M', 'A/T', 'M/T', '5М', 'М/T', ' 7 АКП',\n",
       "       '7АКП', 'А/T', '8A', 'TDI', '9AT', 'РЕДУКТОР'], dtype=object)"
      ]
     },
     "execution_count": 78,
     "metadata": {},
     "output_type": "execute_result"
    }
   ],
   "source": [
    "# смотрим на уникальные значения - снова говорим спасибо тем, кто вносил данные - готовим функцию зачистки\n",
    "df.transmission_type.unique()"
   ]
  },
  {
   "cell_type": "code",
   "execution_count": 79,
   "id": "a2945bb9",
   "metadata": {},
   "outputs": [],
   "source": [
    "def clean_transmission(cell):\n",
    "    '''\n",
    "    функция очистки столбца трансмиссия\n",
    "    argument: cell - ячейка столбца transmission_type\n",
    "    '''\n",
    "    AT = ['AT', 'АТ', 'АT', 'A/T', 'А/T', 'АКПП', 'АКП', 'AMT']\n",
    "    MT = ['MT', 'МТ', 'МT', 'М/T', 'M/T', 'Мех.', 'МКПП']\n",
    "    AT_4 = ['4 АТ', '4АТ', '4AT']\n",
    "    AT_5 = ['5 AT', '5AT', '5АТ']\n",
    "    MT_5 = ['5 МТ', '5МТ', '5MT', '5M', '5М']\n",
    "    AT_6 = ['6 АТ', '6АТ', '6AT', '6 AT', '6A', '6А']\n",
    "    MT_6 = ['6 MT', '6MT', '6 МТ', '6МТ', '6M/T']\n",
    "    AT_7 = ['7АТ', '7AT', ' 7 АКП', '7АКП']\n",
    "    AT_8 = ['8 AT', '8АТ', '8 АТ', '8-ступ АКПП', '8', '8АКПП', '8A']\n",
    "    AT_12 = ['12AT', '12АТ']\n",
    "    CVT = ['CVT (вариатор)', 'CVT (вариATор)', 'CVT(вAриATор)', 'CVT']\n",
    "    DCT = ['7 DCT', '7DCT', 'DCT']\n",
    "    DSG = ['7 DSG', '7DSG', '6 DSG', '6DSG', 'DSG']\n",
    "    PDK = ['PDK', '7 АКПП (PDK)', '7 АКПП PDK', '8 АКПП (PDK)']\n",
    "    if cell in AT:\n",
    "        return 'AT'\n",
    "    if cell in MT:\n",
    "        return 'MT'\n",
    "    if cell in AT_4:\n",
    "        return '4AT'\n",
    "    if cell in AT_5:\n",
    "        return '5AT'\n",
    "    if cell in MT_5:\n",
    "        return '5MT'\n",
    "    if cell in AT_6:\n",
    "        return '6AT'\n",
    "    if cell in MT_6:\n",
    "        return '6MT'\n",
    "    if cell in AT_7:\n",
    "        return '7AT'\n",
    "    if cell in AT_8:\n",
    "        return '8AT'\n",
    "    if cell in AT_12:\n",
    "        return '12AT'\n",
    "    if cell in CVT:\n",
    "        return 'CVT'\n",
    "    if cell in DCT:\n",
    "        return '7DCT'\n",
    "    if cell in DSG:\n",
    "        return 'DSG'\n",
    "    if cell in PDK:\n",
    "        return 'PDK'\n",
    "    return cell"
   ]
  },
  {
   "cell_type": "markdown",
   "id": "ce7fcd2f",
   "metadata": {},
   "source": [
    "Надо бы функцию переделать с кучей if - делал на  коленке не стал заморачиваться"
   ]
  },
  {
   "cell_type": "code",
   "execution_count": 80,
   "id": "c739c0e9",
   "metadata": {},
   "outputs": [],
   "source": [
    "# чистим данные\n",
    "df.transmission_type = df.transmission_type.apply(clean_transmission)"
   ]
  },
  {
   "cell_type": "code",
   "execution_count": 81,
   "id": "9db8f94a",
   "metadata": {},
   "outputs": [],
   "source": [
    "# доочищаем данные\n",
    "df.transmission_type = (\n",
    "    df.transmission_type.replace('S-Tronic', 'S-tronic')\n",
    "    .replace('8 АКПП Tiptronic S', 'Tiptronic')\n",
    ")"
   ]
  },
  {
   "cell_type": "code",
   "execution_count": 82,
   "id": "d540af73",
   "metadata": {},
   "outputs": [
    {
     "data": {
      "text/plain": [
       "array(['S-tronic', 'Tiptronic', 'AT', 'Steptronic', '6AT', '5MT', 'MT',\n",
       "       '8AT', 'Powershift S6', '6MT', '5AT', '7DCT', 'CVT', '4AT',\n",
       "       '7G-TRONIC', '9G-TRONIC', '12AT', '7AT', 'PDK', 'DSG', 'TDI',\n",
       "       '9AT', 'РЕДУКТОР'], dtype=object)"
      ]
     },
     "execution_count": 82,
     "metadata": {},
     "output_type": "execute_result"
    }
   ],
   "source": [
    "# проверям итоги зачистки - все отлично\n",
    "df.transmission_type.unique()"
   ]
  },
  {
   "cell_type": "markdown",
   "id": "68e08cd1",
   "metadata": {},
   "source": [
    "<font face='Liberation serif' size=4 color='blue'>*Проверяем столбцы <b>сегмент</b> и <b>класс</b>*</font>"
   ]
  },
  {
   "cell_type": "code",
   "execution_count": 83,
   "id": "791968cf",
   "metadata": {},
   "outputs": [
    {
     "data": {
      "text/plain": [
       "array(['Легковые автомобили', 'Внедорожники', 'Коммерческие автомобили',\n",
       "       'Минивэны', 'Пикапы'], dtype=object)"
      ]
     },
     "execution_count": 83,
     "metadata": {},
     "output_type": "execute_result"
    }
   ],
   "source": [
    "df.segment_2013.unique()"
   ]
  },
  {
   "cell_type": "code",
   "execution_count": 84,
   "id": "1f3ce327",
   "metadata": {},
   "outputs": [
    {
     "data": {
      "text/plain": [
       "array(['C класс', 'D класс', 'E класс', 'F класс', 'Среднеразмерные SUV',\n",
       "       'Полноразмерные SUV', 'Спортивные автомобили', 'Компактные SUV',\n",
       "       'B класс', 'Субкомпактные SUV', 'Большие автобусы',\n",
       "       'Микроавтобусы', 'Малотоннажные грузовики',\n",
       "       'Среднетоннажные грузовики', 'Полноразмерный Минивэн',\n",
       "       'Средние автобусы', 'Крупнотоннажные грузовики', 'A класс',\n",
       "       'Компактвэн', 'Pick-ups', 'Развозные автомобили'], dtype=object)"
      ]
     },
     "execution_count": 84,
     "metadata": {},
     "output_type": "execute_result"
    }
   ],
   "source": [
    "df.class_2013.unique()"
   ]
  },
  {
   "cell_type": "markdown",
   "id": "4626f803",
   "metadata": {},
   "source": [
    "<font face='Liberation serif' size=4>Все ок - оставляем без изменений</font>"
   ]
  },
  {
   "cell_type": "markdown",
   "id": "f8602b81",
   "metadata": {},
   "source": [
    "<font face='Liberation serif' size=4 color='blue'>*<b>Бренд</b> и <b>модель</b>*</font>"
   ]
  },
  {
   "cell_type": "code",
   "execution_count": 85,
   "id": "fd277c94",
   "metadata": {},
   "outputs": [
    {
     "data": {
      "text/plain": [
       "array(['A3', 'A4', 'A6', 'A7', 'A8', 'Q5', 'Q7', '3 серия', '5 серия',\n",
       "       '6 серия', '7 серия', 'X1', 'X3', 'X4', 'X5', 'X6', 'X7', 'Z4',\n",
       "       'Aveo', 'Captiva', 'Niva', 'Tahoe', 'Tracker', 'BS 106 A',\n",
       "       'Fiesta', 'Mondeo', '2217', '2310', '2705', '2752', '3221', '3302',\n",
       "       '3308', '3309', 'Next', 'Accent', 'Creta', 'Elantra', 'Santa Fe',\n",
       "       'Sonata', 'TQ-1/H-1', 'County', 'H350', 'HD 170', 'HD 65', 'HD 78',\n",
       "       'Universe', 'Tucson', 'Q50', 'QX50', 'QX60', 'QX80', 'Daily', 'S3',\n",
       "       'S5', 'F-Pace', 'F-Type', 'XE', 'XF', 'XJ', 'Cerato', 'Optima',\n",
       "       'Picanto', 'Quoris', 'Rio', 'Sorento', 'Soul', 'Sportage', '4x4',\n",
       "       'Granta', 'Kalina', 'Largus', 'Vesta', 'XRAY', 'ВИС', 'Discovery',\n",
       "       'Discovery Sport', 'Range Rover', 'Range Rover Evoque',\n",
       "       'Range Rover Sport', 'ES', 'GX', 'LS', 'LX', 'NX', 'RX', 'RXH',\n",
       "       'Murman', 'Solano', 'X50', 'X60', 'A-Class', 'C-Class',\n",
       "       'CLA-Class', 'CLS-Class', 'E-Class', 'G-Class', 'GLA-Class',\n",
       "       'GLC-Class', 'GLE-Class', 'GLS-Class', 'S-Class', 'Actros',\n",
       "       'Sprinter', 'Tourismo', 'V-Class', 'Vito', 'Countryman', 'ASX',\n",
       "       'Outlander', 'Pajero IV', 'Pajero Sport', 'Almera', 'Juke',\n",
       "       'Murano', 'Qashqai', 'Terrano', 'X-Trail', '301',\n",
       "       'Partner Panel Van', '911 Carrera S', 'Cayenne', 'Macan',\n",
       "       'Panamera', 'Nexia R3', 'R4', 'Duster', 'Sandero', 'Octavia',\n",
       "       'Rapid', 'Superb', 'Forester', 'Legacy', 'Outback', 'XV', 'Camry',\n",
       "       'Corolla', 'HIGHLANDER', 'HILUX DC', 'LC Prado', 'LC200', 'RAV4',\n",
       "       '2206', '3151', '3303', '3741', '3909', '3962', 'Cargo', 'Patriot',\n",
       "       'Patriot Pickup', 'Amarok', 'Caddy Kasten ', 'Caddy Maxi Kombi',\n",
       "       'Caravelle', 'Jetta', 'Multivan', 'Polo', 'Tiguan', 'Touareg',\n",
       "       'Transporter', 'Transporter Kasten', 'XC90', 'MYWAY', 'HD 35',\n",
       "       'Range Rover Velar', 'BS 106 D', 'Kodiaq', 'Escalade', 'GLC Coupe',\n",
       "       'E-PACE', 'Eclipse Cross', 'X70', 'N120', 'T6', 'X2', 'S90',\n",
       "       'XC60', 'C-HR', '300', 'XC40', 'N56', 'XT5', '500', 'Stinger',\n",
       "       'Hatch', 'Traverse', 'HD 79', 'i8', 'UX', '8 серия', 'Cabrio',\n",
       "       'Q8', 'RS5', 'Teramont', 'I-Pace', 'S7', 'BC 211 MA', 'BC 095',\n",
       "       'Camaro', 'HFF6850G', 'Transporter Kombi ', 'GLE Coupe',\n",
       "       'HFF6127GZ-4', 'ZK6108HGH', 'V90'], dtype=object)"
      ]
     },
     "execution_count": 85,
     "metadata": {},
     "output_type": "execute_result"
    }
   ],
   "source": [
    "df.model.unique()"
   ]
  },
  {
   "cell_type": "code",
   "execution_count": 86,
   "id": "5c22212c",
   "metadata": {},
   "outputs": [
    {
     "data": {
      "text/plain": [
       "array(['Audi', 'BMW', 'Chevrolet', 'Daewoo', 'Ford', 'GAZ', 'Hyundai',\n",
       "       'Hyundai Truck & Bus', 'Infiniti', 'Iveco', 'Jac', 'Jaguar', 'Kia',\n",
       "       'Lada', 'Land Rover', 'Lexus', 'Lifan', 'Mercedes-Benz',\n",
       "       'Mercedes-Benz Trucks', 'Mini', 'Mitsubishi', 'Nissan', 'Peugeot',\n",
       "       'Porsche', 'Ravon', 'Renault', 'Skoda', 'Subaru', 'Toyota', 'UAZ',\n",
       "       'Volkswagen', 'Volvo', 'Cadillac', 'Hino', 'ANKAI', 'Yutong'],\n",
       "      dtype=object)"
      ]
     },
     "execution_count": 86,
     "metadata": {},
     "output_type": "execute_result"
    }
   ],
   "source": [
    "df.brand.unique()"
   ]
  },
  {
   "cell_type": "markdown",
   "id": "77aae2ac",
   "metadata": {},
   "source": [
    "<font face='Liberation serif' size=4>Оставляем как есть</font>"
   ]
  },
  {
   "cell_type": "markdown",
   "id": "d7bd5769",
   "metadata": {},
   "source": [
    "<font face='Liberation serif' size=4>Посмотрим на итоги</font>"
   ]
  },
  {
   "cell_type": "code",
   "execution_count": 87,
   "id": "db3748e4",
   "metadata": {},
   "outputs": [
    {
     "name": "stdout",
     "output_type": "stream",
     "text": [
      "<class 'pandas.core.frame.DataFrame'>\n",
      "Index: 34801 entries, 0 to 39950\n",
      "Data columns (total 19 columns):\n",
      " #   Column                 Non-Null Count  Dtype  \n",
      "---  ------                 --------------  -----  \n",
      " 0   year                   34801 non-null  int64  \n",
      " 1   month                  34801 non-null  object \n",
      " 2   company                34801 non-null  object \n",
      " 3   brand                  34801 non-null  object \n",
      " 4   model                  34801 non-null  object \n",
      " 5   release_year           34801 non-null  int32  \n",
      " 6   manufacturing_country  34801 non-null  object \n",
      " 7   fuel_type              34801 non-null  object \n",
      " 8   engine_volume          34801 non-null  float64\n",
      " 9   transmission_type      34801 non-null  object \n",
      " 10  drive_type             34801 non-null  object \n",
      " 11  region                 34801 non-null  object \n",
      " 12  quantity               34801 non-null  int32  \n",
      " 13  price_usd              34801 non-null  float64\n",
      " 14  sell_price_usd         34801 non-null  float64\n",
      " 15  state                  34801 non-null  object \n",
      " 16  segment_2013           34801 non-null  object \n",
      " 17  class_2013             34801 non-null  object \n",
      " 18  sales_date             34801 non-null  object \n",
      "dtypes: float64(3), int32(2), int64(1), object(13)\n",
      "memory usage: 5.0+ MB\n"
     ]
    }
   ],
   "source": [
    "df.info()"
   ]
  },
  {
   "cell_type": "code",
   "execution_count": 88,
   "id": "c79059d1",
   "metadata": {},
   "outputs": [],
   "source": [
    "# удалим год и месяц - мы сделали столбец дата продажи\n",
    "df = df.drop(columns=['year', 'month'])"
   ]
  },
  {
   "cell_type": "code",
   "execution_count": 89,
   "id": "ee9a99e6",
   "metadata": {},
   "outputs": [
    {
     "data": {
      "text/plain": [
       "company                  0\n",
       "brand                    0\n",
       "model                    0\n",
       "release_year             0\n",
       "manufacturing_country    0\n",
       "fuel_type                0\n",
       "engine_volume            0\n",
       "transmission_type        0\n",
       "drive_type               0\n",
       "region                   0\n",
       "quantity                 0\n",
       "price_usd                0\n",
       "sell_price_usd           0\n",
       "state                    0\n",
       "segment_2013             0\n",
       "class_2013               0\n",
       "sales_date               0\n",
       "dtype: int64"
      ]
     },
     "execution_count": 89,
     "metadata": {},
     "output_type": "execute_result"
    }
   ],
   "source": [
    "# пропусков не должно быть - их и нет\n",
    "df.isna().sum()"
   ]
  },
  {
   "cell_type": "code",
   "execution_count": 90,
   "id": "dfcd3655",
   "metadata": {},
   "outputs": [],
   "source": [
    "# дату продажи в дату без времени\n",
    "df.sales_date = pd.to_datetime(df.sales_date, format='%Y-%m-%d').dt.date"
   ]
  },
  {
   "cell_type": "code",
   "execution_count": 91,
   "id": "f2594255",
   "metadata": {},
   "outputs": [
    {
     "data": {
      "text/plain": [
       "release_year\n",
       "2019    26889\n",
       "2018     7780\n",
       "2017      112\n",
       "2016       18\n",
       "2014        1\n",
       "2013        1\n",
       "Name: count, dtype: int64"
      ]
     },
     "execution_count": 91,
     "metadata": {},
     "output_type": "execute_result"
    }
   ],
   "source": [
    "# посмотрим на данные в столбце год выпуска\n",
    "df['release_year'].value_counts()"
   ]
  },
  {
   "cell_type": "markdown",
   "id": "725f8d5c",
   "metadata": {},
   "source": [
    "**<font face='liberation serif' size=4>Далее немного порисуем графиков для числовых столбцов - в нашем случае достаточно будет только ценового**</font>"
   ]
  },
  {
   "cell_type": "code",
   "execution_count": 92,
   "id": "cff7ac65",
   "metadata": {},
   "outputs": [
    {
     "name": "stdout",
     "output_type": "stream",
     "text": [
      "['Solarize_Light2', '_classic_test_patch', '_mpl-gallery', '_mpl-gallery-nogrid', 'bmh', 'classic', 'dark_background', 'fast', 'fivethirtyeight', 'ggplot', 'grayscale', 'seaborn-v0_8', 'seaborn-v0_8-bright', 'seaborn-v0_8-colorblind', 'seaborn-v0_8-dark', 'seaborn-v0_8-dark-palette', 'seaborn-v0_8-darkgrid', 'seaborn-v0_8-deep', 'seaborn-v0_8-muted', 'seaborn-v0_8-notebook', 'seaborn-v0_8-paper', 'seaborn-v0_8-pastel', 'seaborn-v0_8-poster', 'seaborn-v0_8-talk', 'seaborn-v0_8-ticks', 'seaborn-v0_8-white', 'seaborn-v0_8-whitegrid', 'tableau-colorblind10']\n"
     ]
    }
   ],
   "source": [
    "# распечатаем стили графиков, которые доступны для использования\n",
    "print(plt.style.available)"
   ]
  },
  {
   "cell_type": "code",
   "execution_count": 93,
   "id": "a20bbdf9",
   "metadata": {},
   "outputs": [],
   "source": [
    "# выберем для примера гугловский вариант оформления графиков\n",
    "plt.style.use('ggplot')\n",
    "sns.set_style('whitegrid')"
   ]
  },
  {
   "cell_type": "code",
   "execution_count": 94,
   "id": "26ecd32d",
   "metadata": {},
   "outputs": [
    {
     "data": {
      "image/png": "[encoded data removed]",
      "text/plain": [
       "<Figure size 2000x800 with 1 Axes>"
      ]
     },
     "metadata": {},
     "output_type": "display_data"
    }
   ],
   "source": [
    "# построим гистограмму цен на автомобили\n",
    "plt.figure(figsize=(20, 8))\n",
    "sns.distplot(df.price_usd)\n",
    "plt.title('Распределение цены на автомобили в Казахстане')\n",
    "plt.show()"
   ]
  },
  {
   "cell_type": "code",
   "execution_count": 95,
   "id": "0c46486c",
   "metadata": {},
   "outputs": [
    {
     "name": "stdout",
     "output_type": "stream",
     "text": [
      "Минимум: 7100.0       среднее: 28560.54       максимум: 305252.02\n"
     ]
    }
   ],
   "source": [
    "print(f'Минимум: {df.price_usd.min()} \\\n",
    "      среднее: {df.price_usd.mean():.2f} \\\n",
    "      максимум: {df.price_usd.max():.2f}')"
   ]
  },
  {
   "cell_type": "markdown",
   "id": "438cf69f",
   "metadata": {},
   "source": [
    "<font face='liberation serif' size=4>Имеем подобие биноминального распределения с хвостом. Основная масса цен укладывается в диапазон 10-50 тысяч с пиками 18 и 30 тысяч. \n",
    "\n",
    "Ради интереса посмотрим на продажи за триста тысяч</font>"
   ]
  },
  {
   "cell_type": "code",
   "execution_count": 96,
   "id": "15e5112d",
   "metadata": {},
   "outputs": [
    {
     "data": {
      "text/html": [
       "<div>\n",
       "<style scoped>\n",
       "    .dataframe tbody tr th:only-of-type {\n",
       "        vertical-align: middle;\n",
       "    }\n",
       "\n",
       "    .dataframe tbody tr th {\n",
       "        vertical-align: top;\n",
       "    }\n",
       "\n",
       "    .dataframe thead th {\n",
       "        text-align: right;\n",
       "    }\n",
       "</style>\n",
       "<table border=\"1\" class=\"dataframe\">\n",
       "  <thead>\n",
       "    <tr style=\"text-align: right;\">\n",
       "      <th></th>\n",
       "      <th>company</th>\n",
       "      <th>brand</th>\n",
       "      <th>model</th>\n",
       "      <th>release_year</th>\n",
       "      <th>manufacturing_country</th>\n",
       "      <th>fuel_type</th>\n",
       "      <th>engine_volume</th>\n",
       "      <th>transmission_type</th>\n",
       "      <th>drive_type</th>\n",
       "      <th>region</th>\n",
       "      <th>quantity</th>\n",
       "      <th>price_usd</th>\n",
       "      <th>sell_price_usd</th>\n",
       "      <th>state</th>\n",
       "      <th>segment_2013</th>\n",
       "      <th>class_2013</th>\n",
       "      <th>sales_date</th>\n",
       "    </tr>\n",
       "  </thead>\n",
       "  <tbody>\n",
       "    <tr>\n",
       "      <th>20402</th>\n",
       "      <td>Автокапитал</td>\n",
       "      <td>Mercedes-Benz Trucks</td>\n",
       "      <td>Tourismo</td>\n",
       "      <td>2019</td>\n",
       "      <td>TUR</td>\n",
       "      <td>D</td>\n",
       "      <td>12.0</td>\n",
       "      <td>6AT</td>\n",
       "      <td>RWD</td>\n",
       "      <td>Атырау</td>\n",
       "      <td>1</td>\n",
       "      <td>305252.0154</td>\n",
       "      <td>305252.0154</td>\n",
       "      <td>Атырауская область</td>\n",
       "      <td>Коммерческие автомобили</td>\n",
       "      <td>Большие автобусы</td>\n",
       "      <td>2019-05-01</td>\n",
       "    </tr>\n",
       "    <tr>\n",
       "      <th>20403</th>\n",
       "      <td>Автокапитал</td>\n",
       "      <td>Mercedes-Benz Trucks</td>\n",
       "      <td>Tourismo</td>\n",
       "      <td>2019</td>\n",
       "      <td>TUR</td>\n",
       "      <td>D</td>\n",
       "      <td>12.0</td>\n",
       "      <td>6AT</td>\n",
       "      <td>RWD</td>\n",
       "      <td>Атырау</td>\n",
       "      <td>1</td>\n",
       "      <td>303650.8783</td>\n",
       "      <td>303650.8783</td>\n",
       "      <td>Атырауская область</td>\n",
       "      <td>Коммерческие автомобили</td>\n",
       "      <td>Большие автобусы</td>\n",
       "      <td>2019-06-01</td>\n",
       "    </tr>\n",
       "  </tbody>\n",
       "</table>\n",
       "</div>"
      ],
      "text/plain": [
       "           company                 brand     model  release_year   \n",
       "20402  Автокапитал  Mercedes-Benz Trucks  Tourismo          2019  \\\n",
       "20403  Автокапитал  Mercedes-Benz Trucks  Tourismo          2019   \n",
       "\n",
       "      manufacturing_country fuel_type  engine_volume transmission_type   \n",
       "20402                   TUR         D           12.0               6AT  \\\n",
       "20403                   TUR         D           12.0               6AT   \n",
       "\n",
       "      drive_type  region  quantity    price_usd  sell_price_usd   \n",
       "20402        RWD  Атырау         1  305252.0154     305252.0154  \\\n",
       "20403        RWD  Атырау         1  303650.8783     303650.8783   \n",
       "\n",
       "                    state             segment_2013        class_2013   \n",
       "20402  Атырауская область  Коммерческие автомобили  Большие автобусы  \\\n",
       "20403  Атырауская область  Коммерческие автомобили  Большие автобусы   \n",
       "\n",
       "       sales_date  \n",
       "20402  2019-05-01  \n",
       "20403  2019-06-01  "
      ]
     },
     "execution_count": 96,
     "metadata": {},
     "output_type": "execute_result"
    }
   ],
   "source": [
    "df.query('price_usd > 300000')"
   ]
  },
  {
   "cell_type": "markdown",
   "id": "43acb1ad",
   "metadata": {},
   "source": [
    "<font face='liberation serif' size=4>Это туристические автобусы от мерседеса из Турции</font>"
   ]
  },
  {
   "cell_type": "markdown",
   "id": "98dd0961",
   "metadata": {},
   "source": [
    "<font face='liberation serif' size=4>Построим ящик с усами - видны выбросы после 58 тысяч</font>"
   ]
  },
  {
   "cell_type": "code",
   "execution_count": 109,
   "id": "40e0efc9",
   "metadata": {},
   "outputs": [
    {
     "data": {
      "image/png": "[encoded data removed]",
      "text/plain": [
       "<Figure size 2000x500 with 1 Axes>"
      ]
     },
     "metadata": {},
     "output_type": "display_data"
    }
   ],
   "source": [
    "plt.figure(figsize=(20, 5))\n",
    "sns.boxplot(df.query('price_usd < 150000').price_usd, notch=True, whis=1.5, orient='h');"
   ]
  },
  {
   "cell_type": "markdown",
   "id": "5e8faf31",
   "metadata": {},
   "source": [
    "<font face='liberation serif' size=4>Ради интереса почистим цены межквартильным размахом, в итоговом датасете мы не будем использовать очищенные данные, так как и эти продажи могут понадобиться.</font>"
   ]
  },
  {
   "cell_type": "code",
   "execution_count": 98,
   "id": "982666c3",
   "metadata": {},
   "outputs": [],
   "source": [
    "# считаем перваый и третьий квартили\n",
    "q1, q3 = np.quantile(df.price_usd, [.25, .75])"
   ]
  },
  {
   "cell_type": "code",
   "execution_count": 99,
   "id": "9c7498bb",
   "metadata": {},
   "outputs": [],
   "source": [
    "# находим межквартильный размах\n",
    "iqr = q3 - q1"
   ]
  },
  {
   "cell_type": "code",
   "execution_count": 100,
   "id": "bf09d3c5",
   "metadata": {},
   "outputs": [],
   "source": [
    "# определяем границы цен, путем вычитания 1.5 размахов от 1 кваритиля и добавления 1.5 размахов к 3 кваритилю\n",
    "low, top = q1 - 1.5 * iqr, q3 + 1.5 * iqr"
   ]
  },
  {
   "cell_type": "code",
   "execution_count": 101,
   "id": "a52343eb",
   "metadata": {},
   "outputs": [],
   "source": [
    "price_without_outliers = df.query('(price_usd > @low) and (price_usd < @top)')"
   ]
  },
  {
   "cell_type": "code",
   "execution_count": 102,
   "id": "b5716d5a",
   "metadata": {
    "scrolled": true
   },
   "outputs": [
    {
     "name": "stdout",
     "output_type": "stream",
     "text": [
      "0.9280767794028907\n"
     ]
    }
   ],
   "source": [
    "print(len(price_without_outliers) / df.shape[0])"
   ]
  },
  {
   "cell_type": "markdown",
   "id": "b13a6630",
   "metadata": {},
   "source": [
    "<font face='liberation serif' size=4>Отсеклось порядка 7 процентов выбросов</font>"
   ]
  },
  {
   "cell_type": "code",
   "execution_count": 110,
   "id": "4ca93711",
   "metadata": {},
   "outputs": [
    {
     "data": {
      "image/png": "[encoded data removed]",
      "text/plain": [
       "<Figure size 2000x500 with 1 Axes>"
      ]
     },
     "metadata": {},
     "output_type": "display_data"
    }
   ],
   "source": [
    "plt.figure(figsize=(20, 5))\n",
    "sns.boxplot(price_without_outliers.price_usd, notch=True, whis=1.5, orient='h');"
   ]
  },
  {
   "cell_type": "markdown",
   "id": "d08a85b3",
   "metadata": {},
   "source": [
    "<font face='liberation serif' size=4>Ценовой диапазон: от 8 до 58 тысяч, средняя цена 24 тысячи</font>"
   ]
  },
  {
   "cell_type": "code",
   "execution_count": 104,
   "id": "8b313197",
   "metadata": {},
   "outputs": [
    {
     "data": {
      "image/png": "[encoded data removed]",
      "text/plain": [
       "<Figure size 1600x800 with 1 Axes>"
      ]
     },
     "metadata": {},
     "output_type": "display_data"
    }
   ],
   "source": [
    "# отрисуем чистые цены и все цены на одном графике\n",
    "plt.figure(figsize=(16, 8))\n",
    "\n",
    "sns.histplot(df.price_usd, element='step', stat='frequency',\n",
    "             bins=50, fill=False, linewidth=4, \n",
    "             color='green', alpha=.6,\n",
    "            label='all prices')\n",
    "sns.histplot(price_without_outliers.price_usd, element='step', stat='frequency',\n",
    "             bins=15, fill=False, linewidth=4, \n",
    "             color='red', alpha=.6,\n",
    "            label='cleaned prices')\n",
    "\n",
    "plt.axvline(x=price_without_outliers.price_usd.median(), color='red', linestyle='--', linewidth=3)\n",
    "plt.axvline(x=df.price_usd.mean(), color='green', linestyle='--', linewidth=3)\n",
    "\n",
    "plt.title('Распределение цен с очисткой и без очистки', font='serif', fontsize=14, weight='bold')\n",
    "plt.legend(fontsize=16)\n",
    "plt.show()"
   ]
  },
  {
   "cell_type": "markdown",
   "id": "83ad41c9",
   "metadata": {},
   "source": [
    "<font face='liberation serif' size=4>Интерквартильный размах избавляет нас от хвоста и данные становятся более однородными, однако, в итоговый датасет я перенесу все данные, так как не известно какие данные понадобятся для анализа.</font>"
   ]
  },
  {
   "cell_type": "markdown",
   "id": "3aa00a6d",
   "metadata": {},
   "source": [
    "<font face='liberation serif' size=5 color='royalblue'>**Датасет очищен и подготовлен для анализа**</font>"
   ]
  },
  {
   "cell_type": "code",
   "execution_count": 105,
   "id": "3c49a1df",
   "metadata": {},
   "outputs": [],
   "source": [
    "cat_columns = ['fuel_type', 'transmission_type', 'drive_type', 'segment_2013', 'class_2013']"
   ]
  },
  {
   "cell_type": "code",
   "execution_count": 106,
   "id": "03d387ce",
   "metadata": {},
   "outputs": [],
   "source": [
    "for col in cat_columns:\n",
    "    df[col] = df[col].astype('category')"
   ]
  },
  {
   "cell_type": "code",
   "execution_count": 107,
   "id": "86576375",
   "metadata": {},
   "outputs": [
    {
     "name": "stdout",
     "output_type": "stream",
     "text": [
      "<class 'pandas.core.frame.DataFrame'>\n",
      "Index: 34801 entries, 0 to 39950\n",
      "Data columns (total 17 columns):\n",
      " #   Column                 Non-Null Count  Dtype   \n",
      "---  ------                 --------------  -----   \n",
      " 0   company                34801 non-null  object  \n",
      " 1   brand                  34801 non-null  object  \n",
      " 2   model                  34801 non-null  object  \n",
      " 3   release_year           34801 non-null  int32   \n",
      " 4   manufacturing_country  34801 non-null  object  \n",
      " 5   fuel_type              34801 non-null  category\n",
      " 6   engine_volume          34801 non-null  float64 \n",
      " 7   transmission_type      34801 non-null  category\n",
      " 8   drive_type             34801 non-null  category\n",
      " 9   region                 34801 non-null  object  \n",
      " 10  quantity               34801 non-null  int32   \n",
      " 11  price_usd              34801 non-null  float64 \n",
      " 12  sell_price_usd         34801 non-null  float64 \n",
      " 13  state                  34801 non-null  object  \n",
      " 14  segment_2013           34801 non-null  category\n",
      " 15  class_2013             34801 non-null  category\n",
      " 16  sales_date             34801 non-null  object  \n",
      "dtypes: category(5), float64(3), int32(2), object(7)\n",
      "memory usage: 3.4+ MB\n"
     ]
    }
   ],
   "source": [
    "df.info()"
   ]
  },
  {
   "cell_type": "code",
   "execution_count": 108,
   "id": "73fba453",
   "metadata": {},
   "outputs": [],
   "source": [
    "# сохраняем датасет в файл\n",
    "df.to_csv('clean_auto_kz.csv')"
   ]
  },
  {
   "cell_type": "markdown",
   "id": "b6934bb3",
   "metadata": {},
   "source": [
    "<div class=\"alert alert-block alert-success\">   \n",
    "    \n",
    "<font face='Liberation serif' size=3 color='black'>**Описание данных:**\n",
    "- **company:** Наименование дилера\n",
    "- **brand:** Наименование бренда \n",
    "- **model:** Наименование модели автомобиля \n",
    "- **release_year:** Год выпуска автомобиля \n",
    "- **manufacturing_country:** Наименование страны-производителя\n",
    "- **fuel_type:** Тип топлива, используемый автомобилем \n",
    "- **engine_volume:** Объем двигателя \n",
    "- **transmission_type:** Тип трансмиссии \n",
    "- **drive_type:** Тип привода\n",
    "- **region:** Район \n",
    "- **quantity:** Количество проданных автомобилей в заказе\n",
    "- **price_usd:** Цена автомобиля в долларах\n",
    "- **sell_price_usd:** Общая стоимость заказа\n",
    "- **state:** Область\n",
    "- **segment_2013:** Сегмент\n",
    "- **class_2013:** Класс\n",
    "- **sales_date:** Дата продажи</font>\n",
    "    \n",
    "</div>"
   ]
  },
  {
   "cell_type": "code",
   "execution_count": null,
   "id": "630f1955",
   "metadata": {},
   "outputs": [],
   "source": []
  },
  {
   "cell_type": "code",
   "execution_count": null,
   "id": "b1f94f0f",
   "metadata": {},
   "outputs": [],
   "source": []
  },
  {
   "cell_type": "code",
   "execution_count": null,
   "id": "c15b418d",
   "metadata": {},
   "outputs": [],
   "source": []
  }
 ],
 "metadata": {
  "kernelspec": {
   "display_name": "Python 3 (ipykernel)",
   "language": "python",
   "name": "python3"
  },
  "language_info": {
   "codemirror_mode": {
    "name": "ipython",
    "version": 3
   },
   "file_extension": ".py",
   "mimetype": "text/x-python",
   "name": "python",
   "nbconvert_exporter": "python",
   "pygments_lexer": "ipython3",
   "version": "3.10.9"
  }
 },
 "nbformat": 4,
 "nbformat_minor": 5
}
