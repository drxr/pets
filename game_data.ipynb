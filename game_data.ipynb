{
 "cells": [
  {
   "cell_type": "markdown",
   "metadata": {
    "id": "S9BpWkNh7d8U"
   },
   "source": [
    "<font face='Liberation serif' size=5>**Цель исследования:** выяснить, изменился ли игровой баланс после выпуска обновления игры</font>"
   ]
  },
  {
   "cell_type": "markdown",
   "metadata": {},
   "source": [
    "<font face='liberation serif' size=3>***Для того, чтобы определить изменился ли баланс или нет необходимо выделить боевые сетапы (какое оружие и в какой последовательности используется в бою) и проверить среднее время боя до и после обновления. В зависимости от нормальности распределения мы используемые параметрические или непараметрические методы проверки гипотез о равенстве средних***</font>"
   ]
  },
  {
   "cell_type": "markdown",
   "metadata": {
    "id": "-_xjVkxA7dw_"
   },
   "source": [
    "<font face='Liberation serif' size=3>**Описание данных:**\n",
    "\n",
    "- **battle_id:** идентификатор битвы;\n",
    "- **unit_1:** первый боец (тип);\n",
    "- **unit_2:** второй боец (тип);\n",
    "- **unit_3:** третий боец (тип);\n",
    "- **unit_4:** четвертый боец (тип);\n",
    "- **len:** длительность боя;\n",
    "- **balance_mark:** бой до или после обновления.\n",
    "</font>"
   ]
  },
  {
   "cell_type": "markdown",
   "metadata": {
    "id": "AQfYhoNQAuda"
   },
   "source": [
    "<font face='Liberation serif' size=4>**0. Готовимся к исследованию**</font>"
   ]
  },
  {
   "cell_type": "markdown",
   "metadata": {
    "id": "byELbY8bjC9K"
   },
   "source": [
    "<font face='Liberation serif' size=3>Загружаем библиотеки, необходимые для анализа</font>"
   ]
  },
  {
   "cell_type": "code",
   "execution_count": 1,
   "metadata": {
    "id": "sLCqQpZJrTnw"
   },
   "outputs": [],
   "source": [
    "import pandas as pd\n",
    "import numpy as np\n",
    "from scipy import stats as st\n",
    "import matplotlib.pyplot as plt\n",
    "import seaborn as sns\n",
    "import warnings\n",
    "import math\n",
    "\n",
    "%matplotlib inline"
   ]
  },
  {
   "cell_type": "markdown",
   "metadata": {
    "id": "MwNSrUaPjIoK"
   },
   "source": [
    "<font face='Liberation serif' size=3>Настраиваем опции ноутбука</font>"
   ]
  },
  {
   "cell_type": "code",
   "execution_count": 2,
   "metadata": {
    "id": "2IsbUjWku-s-"
   },
   "outputs": [],
   "source": [
    "pd.options.mode.chained_assignment = None  \n",
    "pd.set_option('display.max_columns', None)\n",
    "pd.options.display.float_format = '{:,.2f}'.format  # настраиваем отображение цифр в таблицах (2 знака после запятой)\n",
    "warnings.filterwarnings('ignore')  # отключаем warning-уведомления\n",
    "plt.style.use('seaborn')  # стиль графиков\n",
    "sns.set(style = 'darkgrid')  # стиль графиков для seaborn"
   ]
  },
  {
   "cell_type": "markdown",
   "metadata": {
    "id": "MFy8kCt3jNFR"
   },
   "source": [
    "<font face='Liberation serif' size=4>**1. Загружаем данные для анализа**</font>"
   ]
  },
  {
   "cell_type": "markdown",
   "metadata": {
    "id": "ka1RGTTwCH4t"
   },
   "source": [
    "<font face='Liberation serif' size=3>Для начала загружаем 100 строк из датасета для проверки корректности загрузки: нет проблем с кодировкой или разделителем</font>"
   ]
  },
  {
   "cell_type": "code",
   "execution_count": 3,
   "metadata": {
    "id": "z9ExwFQnvBSO"
   },
   "outputs": [],
   "source": [
    "df = pd.read_csv('/ya/data_test_2.csv', nrows=100)"
   ]
  },
  {
   "cell_type": "markdown",
   "metadata": {
    "id": "LJqfs-LS-1rw"
   },
   "source": [
    "<font face='Liberation serif' size=3>Смотрим на 10 случайных наблюдений из выборки - на первый взгляд проблем с данными не наблюдается</font>"
   ]
  },
  {
   "cell_type": "code",
   "execution_count": 4,
   "metadata": {
    "colab": {
     "base_uri": "https://localhost:8080/",
     "height": 363
    },
    "id": "GvBaRewZ-GVB",
    "outputId": "de3d51e1-77e7-4e71-d9ae-d09ef60418b5"
   },
   "outputs": [
    {
     "data": {
      "text/html": [
       "<div>\n",
       "<style scoped>\n",
       "    .dataframe tbody tr th:only-of-type {\n",
       "        vertical-align: middle;\n",
       "    }\n",
       "\n",
       "    .dataframe tbody tr th {\n",
       "        vertical-align: top;\n",
       "    }\n",
       "\n",
       "    .dataframe thead th {\n",
       "        text-align: right;\n",
       "    }\n",
       "</style>\n",
       "<table border=\"1\" class=\"dataframe\">\n",
       "  <thead>\n",
       "    <tr style=\"text-align: right;\">\n",
       "      <th></th>\n",
       "      <th>battle_id</th>\n",
       "      <th>unit_1</th>\n",
       "      <th>unit_2</th>\n",
       "      <th>unit_3</th>\n",
       "      <th>unit_4</th>\n",
       "      <th>len</th>\n",
       "      <th>balance_mark</th>\n",
       "    </tr>\n",
       "  </thead>\n",
       "  <tbody>\n",
       "    <tr>\n",
       "      <th>62</th>\n",
       "      <td>107925</td>\n",
       "      <td>топор</td>\n",
       "      <td>меч</td>\n",
       "      <td>лук</td>\n",
       "      <td>посох</td>\n",
       "      <td>15.98</td>\n",
       "      <td>before</td>\n",
       "    </tr>\n",
       "    <tr>\n",
       "      <th>68</th>\n",
       "      <td>108238</td>\n",
       "      <td>булава</td>\n",
       "      <td>лук</td>\n",
       "      <td>булава</td>\n",
       "      <td>булава</td>\n",
       "      <td>18.88</td>\n",
       "      <td>before</td>\n",
       "    </tr>\n",
       "    <tr>\n",
       "      <th>72</th>\n",
       "      <td>119432</td>\n",
       "      <td>булава</td>\n",
       "      <td>меч</td>\n",
       "      <td>топор</td>\n",
       "      <td>лук</td>\n",
       "      <td>19.42</td>\n",
       "      <td>before</td>\n",
       "    </tr>\n",
       "    <tr>\n",
       "      <th>47</th>\n",
       "      <td>100739</td>\n",
       "      <td>лук</td>\n",
       "      <td>меч</td>\n",
       "      <td>меч</td>\n",
       "      <td>посох</td>\n",
       "      <td>22.39</td>\n",
       "      <td>before</td>\n",
       "    </tr>\n",
       "    <tr>\n",
       "      <th>40</th>\n",
       "      <td>112147</td>\n",
       "      <td>топор</td>\n",
       "      <td>меч</td>\n",
       "      <td>топор</td>\n",
       "      <td>булава</td>\n",
       "      <td>15.53</td>\n",
       "      <td>before</td>\n",
       "    </tr>\n",
       "    <tr>\n",
       "      <th>49</th>\n",
       "      <td>102707</td>\n",
       "      <td>булава</td>\n",
       "      <td>булава</td>\n",
       "      <td>посох</td>\n",
       "      <td>топор</td>\n",
       "      <td>17.93</td>\n",
       "      <td>before</td>\n",
       "    </tr>\n",
       "    <tr>\n",
       "      <th>28</th>\n",
       "      <td>100748</td>\n",
       "      <td>меч</td>\n",
       "      <td>меч</td>\n",
       "      <td>булава</td>\n",
       "      <td>меч</td>\n",
       "      <td>15.59</td>\n",
       "      <td>before</td>\n",
       "    </tr>\n",
       "    <tr>\n",
       "      <th>35</th>\n",
       "      <td>118240</td>\n",
       "      <td>булава</td>\n",
       "      <td>меч</td>\n",
       "      <td>посох</td>\n",
       "      <td>булава</td>\n",
       "      <td>16.28</td>\n",
       "      <td>before</td>\n",
       "    </tr>\n",
       "    <tr>\n",
       "      <th>98</th>\n",
       "      <td>116272</td>\n",
       "      <td>лук</td>\n",
       "      <td>булава</td>\n",
       "      <td>лук</td>\n",
       "      <td>лук</td>\n",
       "      <td>23.35</td>\n",
       "      <td>before</td>\n",
       "    </tr>\n",
       "    <tr>\n",
       "      <th>39</th>\n",
       "      <td>103688</td>\n",
       "      <td>меч</td>\n",
       "      <td>меч</td>\n",
       "      <td>булава</td>\n",
       "      <td>меч</td>\n",
       "      <td>18.79</td>\n",
       "      <td>before</td>\n",
       "    </tr>\n",
       "  </tbody>\n",
       "</table>\n",
       "</div>"
      ],
      "text/plain": [
       "    battle_id  unit_1  unit_2  unit_3  unit_4   len balance_mark\n",
       "62     107925   топор     меч     лук   посох 15.98       before\n",
       "68     108238  булава     лук  булава  булава 18.88       before\n",
       "72     119432  булава     меч   топор     лук 19.42       before\n",
       "47     100739     лук     меч     меч   посох 22.39       before\n",
       "40     112147   топор     меч   топор  булава 15.53       before\n",
       "49     102707  булава  булава   посох   топор 17.93       before\n",
       "28     100748     меч     меч  булава     меч 15.59       before\n",
       "35     118240  булава     меч   посох  булава 16.28       before\n",
       "98     116272     лук  булава     лук     лук 23.35       before\n",
       "39     103688     меч     меч  булава     меч 18.79       before"
      ]
     },
     "execution_count": 4,
     "metadata": {},
     "output_type": "execute_result"
    }
   ],
   "source": [
    "df.sample(10)"
   ]
  },
  {
   "cell_type": "markdown",
   "metadata": {
    "id": "-mfS3dg_CaG6"
   },
   "source": [
    "<font face='Liberation serif' size=3>Загружаем датасет целиком</font>"
   ]
  },
  {
   "cell_type": "code",
   "execution_count": 5,
   "metadata": {
    "id": "SkmmV-G_B6xQ"
   },
   "outputs": [],
   "source": [
    "df = pd.read_csv('/ya/data_test_2.csv')"
   ]
  },
  {
   "cell_type": "code",
   "execution_count": 6,
   "metadata": {
    "colab": {
     "base_uri": "https://localhost:8080/"
    },
    "id": "GUHwqB_J-fCc",
    "outputId": "72bdd1a2-3329-4c32-a18b-8b03213c7ff5"
   },
   "outputs": [
    {
     "name": "stdout",
     "output_type": "stream",
     "text": [
      "Итого имеем 20000 наблюдений с 7 признаками\n"
     ]
    }
   ],
   "source": [
    "print(f'Итого имеем {df.shape[0]} наблюдений с {df.shape[1]} признаками')"
   ]
  },
  {
   "cell_type": "markdown",
   "metadata": {
    "id": "M0qZacrIjQjg"
   },
   "source": [
    "<font face='Liberation serif' size=3>Изучаем загруженные данные</font>"
   ]
  },
  {
   "cell_type": "code",
   "execution_count": 7,
   "metadata": {
    "colab": {
     "base_uri": "https://localhost:8080/"
    },
    "id": "gwZQMjWCvVrO",
    "outputId": "c0bd1f19-83e6-40c1-fb32-7b62706f4f55"
   },
   "outputs": [
    {
     "name": "stdout",
     "output_type": "stream",
     "text": [
      "<class 'pandas.core.frame.DataFrame'>\n",
      "RangeIndex: 20000 entries, 0 to 19999\n",
      "Data columns (total 7 columns):\n",
      " #   Column        Non-Null Count  Dtype  \n",
      "---  ------        --------------  -----  \n",
      " 0   battle_id     20000 non-null  int64  \n",
      " 1   unit_1        20000 non-null  object \n",
      " 2   unit_2        20000 non-null  object \n",
      " 3   unit_3        20000 non-null  object \n",
      " 4   unit_4        20000 non-null  object \n",
      " 5   len           20000 non-null  float64\n",
      " 6   balance_mark  20000 non-null  object \n",
      "dtypes: float64(1), int64(1), object(5)\n",
      "memory usage: 1.1+ MB\n"
     ]
    }
   ],
   "source": [
    "df.info()"
   ]
  },
  {
   "cell_type": "markdown",
   "metadata": {
    "id": "0J122AMFCw31"
   },
   "source": [
    "<font face='Liberation serif' size=3>Имеем 5 столбцов со строковыми данными и 2 столбца с цифрами</font>"
   ]
  },
  {
   "cell_type": "code",
   "execution_count": 8,
   "metadata": {
    "colab": {
     "base_uri": "https://localhost:8080/",
     "height": 269
    },
    "id": "YHIHYsfz-MV3",
    "outputId": "c67dacde-aee7-402b-e9f5-9c27e05a9c72"
   },
   "outputs": [
    {
     "data": {
      "text/html": [
       "<div>\n",
       "<style scoped>\n",
       "    .dataframe tbody tr th:only-of-type {\n",
       "        vertical-align: middle;\n",
       "    }\n",
       "\n",
       "    .dataframe tbody tr th {\n",
       "        vertical-align: top;\n",
       "    }\n",
       "\n",
       "    .dataframe thead th {\n",
       "        text-align: right;\n",
       "    }\n",
       "</style>\n",
       "<table border=\"1\" class=\"dataframe\">\n",
       "  <thead>\n",
       "    <tr style=\"text-align: right;\">\n",
       "      <th></th>\n",
       "      <th>count</th>\n",
       "      <th>unique</th>\n",
       "      <th>top</th>\n",
       "      <th>freq</th>\n",
       "      <th>mean</th>\n",
       "      <th>std</th>\n",
       "      <th>min</th>\n",
       "      <th>25%</th>\n",
       "      <th>50%</th>\n",
       "      <th>75%</th>\n",
       "      <th>max</th>\n",
       "    </tr>\n",
       "  </thead>\n",
       "  <tbody>\n",
       "    <tr>\n",
       "      <th>battle_id</th>\n",
       "      <td>20,000.00</td>\n",
       "      <td>NaN</td>\n",
       "      <td>NaN</td>\n",
       "      <td>NaN</td>\n",
       "      <td>110,000.05</td>\n",
       "      <td>5,774.08</td>\n",
       "      <td>100,000.00</td>\n",
       "      <td>104,999.75</td>\n",
       "      <td>110,000.50</td>\n",
       "      <td>115,000.25</td>\n",
       "      <td>120,000.00</td>\n",
       "    </tr>\n",
       "    <tr>\n",
       "      <th>unit_1</th>\n",
       "      <td>20000</td>\n",
       "      <td>5</td>\n",
       "      <td>меч</td>\n",
       "      <td>4053</td>\n",
       "      <td>NaN</td>\n",
       "      <td>NaN</td>\n",
       "      <td>NaN</td>\n",
       "      <td>NaN</td>\n",
       "      <td>NaN</td>\n",
       "      <td>NaN</td>\n",
       "      <td>NaN</td>\n",
       "    </tr>\n",
       "    <tr>\n",
       "      <th>unit_2</th>\n",
       "      <td>20000</td>\n",
       "      <td>5</td>\n",
       "      <td>булава</td>\n",
       "      <td>4131</td>\n",
       "      <td>NaN</td>\n",
       "      <td>NaN</td>\n",
       "      <td>NaN</td>\n",
       "      <td>NaN</td>\n",
       "      <td>NaN</td>\n",
       "      <td>NaN</td>\n",
       "      <td>NaN</td>\n",
       "    </tr>\n",
       "    <tr>\n",
       "      <th>unit_3</th>\n",
       "      <td>20000</td>\n",
       "      <td>5</td>\n",
       "      <td>булава</td>\n",
       "      <td>4068</td>\n",
       "      <td>NaN</td>\n",
       "      <td>NaN</td>\n",
       "      <td>NaN</td>\n",
       "      <td>NaN</td>\n",
       "      <td>NaN</td>\n",
       "      <td>NaN</td>\n",
       "      <td>NaN</td>\n",
       "    </tr>\n",
       "    <tr>\n",
       "      <th>unit_4</th>\n",
       "      <td>20000</td>\n",
       "      <td>5</td>\n",
       "      <td>лук</td>\n",
       "      <td>4107</td>\n",
       "      <td>NaN</td>\n",
       "      <td>NaN</td>\n",
       "      <td>NaN</td>\n",
       "      <td>NaN</td>\n",
       "      <td>NaN</td>\n",
       "      <td>NaN</td>\n",
       "      <td>NaN</td>\n",
       "    </tr>\n",
       "    <tr>\n",
       "      <th>len</th>\n",
       "      <td>20,000.00</td>\n",
       "      <td>NaN</td>\n",
       "      <td>NaN</td>\n",
       "      <td>NaN</td>\n",
       "      <td>22.05</td>\n",
       "      <td>3.96</td>\n",
       "      <td>5.01</td>\n",
       "      <td>19.38</td>\n",
       "      <td>22.11</td>\n",
       "      <td>24.63</td>\n",
       "      <td>30.00</td>\n",
       "    </tr>\n",
       "    <tr>\n",
       "      <th>balance_mark</th>\n",
       "      <td>20000</td>\n",
       "      <td>2</td>\n",
       "      <td>before</td>\n",
       "      <td>10000</td>\n",
       "      <td>NaN</td>\n",
       "      <td>NaN</td>\n",
       "      <td>NaN</td>\n",
       "      <td>NaN</td>\n",
       "      <td>NaN</td>\n",
       "      <td>NaN</td>\n",
       "      <td>NaN</td>\n",
       "    </tr>\n",
       "  </tbody>\n",
       "</table>\n",
       "</div>"
      ],
      "text/plain": [
       "                 count unique     top   freq       mean      std        min  \\\n",
       "battle_id    20,000.00    NaN     NaN    NaN 110,000.05 5,774.08 100,000.00   \n",
       "unit_1           20000      5     меч   4053        NaN      NaN        NaN   \n",
       "unit_2           20000      5  булава   4131        NaN      NaN        NaN   \n",
       "unit_3           20000      5  булава   4068        NaN      NaN        NaN   \n",
       "unit_4           20000      5     лук   4107        NaN      NaN        NaN   \n",
       "len          20,000.00    NaN     NaN    NaN      22.05     3.96       5.01   \n",
       "balance_mark     20000      2  before  10000        NaN      NaN        NaN   \n",
       "\n",
       "                    25%        50%        75%        max  \n",
       "battle_id    104,999.75 110,000.50 115,000.25 120,000.00  \n",
       "unit_1              NaN        NaN        NaN        NaN  \n",
       "unit_2              NaN        NaN        NaN        NaN  \n",
       "unit_3              NaN        NaN        NaN        NaN  \n",
       "unit_4              NaN        NaN        NaN        NaN  \n",
       "len               19.38      22.11      24.63      30.00  \n",
       "balance_mark        NaN        NaN        NaN        NaN  "
      ]
     },
     "execution_count": 8,
     "metadata": {},
     "output_type": "execute_result"
    }
   ],
   "source": [
    "df.describe(include='all').T"
   ]
  },
  {
   "cell_type": "markdown",
   "metadata": {
    "id": "XOLoiTphDCVR"
   },
   "source": [
    "<font face='Liberation serif' size=3>Смотрим на пропуски и дубликаты в датасете</font>"
   ]
  },
  {
   "cell_type": "code",
   "execution_count": 9,
   "metadata": {
    "colab": {
     "base_uri": "https://localhost:8080/"
    },
    "id": "r4zcTuwLvqcd",
    "outputId": "6a33b6f8-7a2d-4786-a9b8-959173292ccb"
   },
   "outputs": [
    {
     "data": {
      "text/plain": [
       "battle_id       0\n",
       "unit_1          0\n",
       "unit_2          0\n",
       "unit_3          0\n",
       "unit_4          0\n",
       "len             0\n",
       "balance_mark    0\n",
       "dtype: int64"
      ]
     },
     "execution_count": 9,
     "metadata": {},
     "output_type": "execute_result"
    }
   ],
   "source": [
    "df.isna().sum()"
   ]
  },
  {
   "cell_type": "code",
   "execution_count": 10,
   "metadata": {
    "colab": {
     "base_uri": "https://localhost:8080/"
    },
    "id": "1x-u4QJKvt3N",
    "outputId": "eb815948-06c6-48bd-c432-002ec221fde2"
   },
   "outputs": [
    {
     "data": {
      "text/plain": [
       "0"
      ]
     },
     "execution_count": 10,
     "metadata": {},
     "output_type": "execute_result"
    }
   ],
   "source": [
    "df.duplicated().sum()"
   ]
  },
  {
   "cell_type": "markdown",
   "metadata": {
    "id": "FWCgwtj3DH-D"
   },
   "source": [
    "<font face='Liberation serif' size=3>Пропусков и дубликатов нет</font>"
   ]
  },
  {
   "cell_type": "code",
   "execution_count": 11,
   "metadata": {
    "colab": {
     "base_uri": "https://localhost:8080/",
     "height": 390
    },
    "id": "kHpzwKdDvw-U",
    "outputId": "b489de40-81fc-4a12-92e5-adade1962ee0"
   },
   "outputs": [
    {
     "data": {
      "text/html": [
       "<div>\n",
       "<style scoped>\n",
       "    .dataframe tbody tr th:only-of-type {\n",
       "        vertical-align: middle;\n",
       "    }\n",
       "\n",
       "    .dataframe tbody tr th {\n",
       "        vertical-align: top;\n",
       "    }\n",
       "\n",
       "    .dataframe thead th {\n",
       "        text-align: right;\n",
       "    }\n",
       "</style>\n",
       "<table border=\"1\" class=\"dataframe\">\n",
       "  <thead>\n",
       "    <tr style=\"text-align: right;\">\n",
       "      <th></th>\n",
       "      <th>battle_id</th>\n",
       "      <th>unit_1</th>\n",
       "      <th>unit_2</th>\n",
       "      <th>unit_3</th>\n",
       "      <th>unit_4</th>\n",
       "      <th>len</th>\n",
       "      <th>balance_mark</th>\n",
       "    </tr>\n",
       "  </thead>\n",
       "  <tbody>\n",
       "    <tr>\n",
       "      <th>count</th>\n",
       "      <td>20,000.00</td>\n",
       "      <td>20000</td>\n",
       "      <td>20000</td>\n",
       "      <td>20000</td>\n",
       "      <td>20000</td>\n",
       "      <td>20,000.00</td>\n",
       "      <td>20000</td>\n",
       "    </tr>\n",
       "    <tr>\n",
       "      <th>unique</th>\n",
       "      <td>NaN</td>\n",
       "      <td>5</td>\n",
       "      <td>5</td>\n",
       "      <td>5</td>\n",
       "      <td>5</td>\n",
       "      <td>NaN</td>\n",
       "      <td>2</td>\n",
       "    </tr>\n",
       "    <tr>\n",
       "      <th>top</th>\n",
       "      <td>NaN</td>\n",
       "      <td>меч</td>\n",
       "      <td>булава</td>\n",
       "      <td>булава</td>\n",
       "      <td>лук</td>\n",
       "      <td>NaN</td>\n",
       "      <td>before</td>\n",
       "    </tr>\n",
       "    <tr>\n",
       "      <th>freq</th>\n",
       "      <td>NaN</td>\n",
       "      <td>4053</td>\n",
       "      <td>4131</td>\n",
       "      <td>4068</td>\n",
       "      <td>4107</td>\n",
       "      <td>NaN</td>\n",
       "      <td>10000</td>\n",
       "    </tr>\n",
       "    <tr>\n",
       "      <th>mean</th>\n",
       "      <td>110,000.05</td>\n",
       "      <td>NaN</td>\n",
       "      <td>NaN</td>\n",
       "      <td>NaN</td>\n",
       "      <td>NaN</td>\n",
       "      <td>22.05</td>\n",
       "      <td>NaN</td>\n",
       "    </tr>\n",
       "    <tr>\n",
       "      <th>std</th>\n",
       "      <td>5,774.08</td>\n",
       "      <td>NaN</td>\n",
       "      <td>NaN</td>\n",
       "      <td>NaN</td>\n",
       "      <td>NaN</td>\n",
       "      <td>3.96</td>\n",
       "      <td>NaN</td>\n",
       "    </tr>\n",
       "    <tr>\n",
       "      <th>min</th>\n",
       "      <td>100,000.00</td>\n",
       "      <td>NaN</td>\n",
       "      <td>NaN</td>\n",
       "      <td>NaN</td>\n",
       "      <td>NaN</td>\n",
       "      <td>5.01</td>\n",
       "      <td>NaN</td>\n",
       "    </tr>\n",
       "    <tr>\n",
       "      <th>25%</th>\n",
       "      <td>104,999.75</td>\n",
       "      <td>NaN</td>\n",
       "      <td>NaN</td>\n",
       "      <td>NaN</td>\n",
       "      <td>NaN</td>\n",
       "      <td>19.38</td>\n",
       "      <td>NaN</td>\n",
       "    </tr>\n",
       "    <tr>\n",
       "      <th>50%</th>\n",
       "      <td>110,000.50</td>\n",
       "      <td>NaN</td>\n",
       "      <td>NaN</td>\n",
       "      <td>NaN</td>\n",
       "      <td>NaN</td>\n",
       "      <td>22.11</td>\n",
       "      <td>NaN</td>\n",
       "    </tr>\n",
       "    <tr>\n",
       "      <th>75%</th>\n",
       "      <td>115,000.25</td>\n",
       "      <td>NaN</td>\n",
       "      <td>NaN</td>\n",
       "      <td>NaN</td>\n",
       "      <td>NaN</td>\n",
       "      <td>24.63</td>\n",
       "      <td>NaN</td>\n",
       "    </tr>\n",
       "    <tr>\n",
       "      <th>max</th>\n",
       "      <td>120,000.00</td>\n",
       "      <td>NaN</td>\n",
       "      <td>NaN</td>\n",
       "      <td>NaN</td>\n",
       "      <td>NaN</td>\n",
       "      <td>30.00</td>\n",
       "      <td>NaN</td>\n",
       "    </tr>\n",
       "  </tbody>\n",
       "</table>\n",
       "</div>"
      ],
      "text/plain": [
       "        battle_id unit_1  unit_2  unit_3 unit_4       len balance_mark\n",
       "count   20,000.00  20000   20000   20000  20000 20,000.00        20000\n",
       "unique        NaN      5       5       5      5       NaN            2\n",
       "top           NaN    меч  булава  булава    лук       NaN       before\n",
       "freq          NaN   4053    4131    4068   4107       NaN        10000\n",
       "mean   110,000.05    NaN     NaN     NaN    NaN     22.05          NaN\n",
       "std      5,774.08    NaN     NaN     NaN    NaN      3.96          NaN\n",
       "min    100,000.00    NaN     NaN     NaN    NaN      5.01          NaN\n",
       "25%    104,999.75    NaN     NaN     NaN    NaN     19.38          NaN\n",
       "50%    110,000.50    NaN     NaN     NaN    NaN     22.11          NaN\n",
       "75%    115,000.25    NaN     NaN     NaN    NaN     24.63          NaN\n",
       "max    120,000.00    NaN     NaN     NaN    NaN     30.00          NaN"
      ]
     },
     "execution_count": 11,
     "metadata": {},
     "output_type": "execute_result"
    }
   ],
   "source": [
    "df.describe(include='all')"
   ]
  },
  {
   "cell_type": "markdown",
   "metadata": {
    "id": "VJaOnkzvji7n"
   },
   "source": [
    "<font face='Liberation serif' size=3>Явных проблем с данными не видно</font>"
   ]
  },
  {
   "cell_type": "markdown",
   "metadata": {
    "id": "colySssnDjzz"
   },
   "source": [
    "<font face='Liberation serif' size=3>**2. Подготовим датасет для анализа**</font>"
   ]
  },
  {
   "cell_type": "markdown",
   "metadata": {
    "id": "ZFzQ8492jnCW"
   },
   "source": [
    "<font face='Liberation serif' size=3>Посмотрим на типы оружия</font>"
   ]
  },
  {
   "cell_type": "code",
   "execution_count": 12,
   "metadata": {
    "colab": {
     "base_uri": "https://localhost:8080/"
    },
    "id": "H0LpQgbsv5rN",
    "outputId": "16460723-701b-4cdb-b1c4-28e1704e8491"
   },
   "outputs": [
    {
     "name": "stdout",
     "output_type": "stream",
     "text": [
      "топор\n",
      "посох\n",
      "меч\n",
      "булава\n",
      "лук\n"
     ]
    }
   ],
   "source": [
    "print(*df.unit_1.unique().tolist(), sep='\\n')"
   ]
  },
  {
   "cell_type": "markdown",
   "metadata": {
    "id": "EqWLXIosjsk4"
   },
   "source": [
    "<font face='Liberation serif' size=3>Создадим отдельный столбец с сетапами (выбор типов воинов и их расположение в бою)</font>"
   ]
  },
  {
   "cell_type": "markdown",
   "metadata": {
    "id": "XSw1HMB5EMy5"
   },
   "source": [
    "<font face='Liberation serif' size=3>Сетап будет в виде четырех заглавных букв оружия, например, ББЛМ - булава, булава, лук, меч</font>"
   ]
  },
  {
   "cell_type": "code",
   "execution_count": 13,
   "metadata": {
    "id": "Xn5T76qoGxbe"
   },
   "outputs": [],
   "source": [
    "df['setup'] = df.unit_1.str[0] + df.unit_2.str[0] + df.unit_3.str[0] + df.unit_4.str[0]"
   ]
  },
  {
   "cell_type": "code",
   "execution_count": 14,
   "metadata": {
    "id": "qb3tgR2GHmdq"
   },
   "outputs": [],
   "source": [
    "df.setup = df.setup.apply(lambda row: ''.join(sorted(row)).upper())"
   ]
  },
  {
   "cell_type": "markdown",
   "metadata": {
    "id": "AiOOj7i9Ei_h"
   },
   "source": [
    "<font face='Liberation serif' size=3>Проверим, что получилось</font>"
   ]
  },
  {
   "cell_type": "code",
   "execution_count": 15,
   "metadata": {
    "colab": {
     "base_uri": "https://localhost:8080/",
     "height": 206
    },
    "id": "i24ZQFqJHxzp",
    "outputId": "24c1e9bb-8fa7-4f0e-a6d6-68d8148e2a31"
   },
   "outputs": [
    {
     "data": {
      "text/html": [
       "<div>\n",
       "<style scoped>\n",
       "    .dataframe tbody tr th:only-of-type {\n",
       "        vertical-align: middle;\n",
       "    }\n",
       "\n",
       "    .dataframe tbody tr th {\n",
       "        vertical-align: top;\n",
       "    }\n",
       "\n",
       "    .dataframe thead th {\n",
       "        text-align: right;\n",
       "    }\n",
       "</style>\n",
       "<table border=\"1\" class=\"dataframe\">\n",
       "  <thead>\n",
       "    <tr style=\"text-align: right;\">\n",
       "      <th></th>\n",
       "      <th>battle_id</th>\n",
       "      <th>unit_1</th>\n",
       "      <th>unit_2</th>\n",
       "      <th>unit_3</th>\n",
       "      <th>unit_4</th>\n",
       "      <th>len</th>\n",
       "      <th>balance_mark</th>\n",
       "      <th>setup</th>\n",
       "    </tr>\n",
       "  </thead>\n",
       "  <tbody>\n",
       "    <tr>\n",
       "      <th>4573</th>\n",
       "      <td>105176</td>\n",
       "      <td>топор</td>\n",
       "      <td>меч</td>\n",
       "      <td>булава</td>\n",
       "      <td>посох</td>\n",
       "      <td>23.96</td>\n",
       "      <td>before</td>\n",
       "      <td>БМПТ</td>\n",
       "    </tr>\n",
       "    <tr>\n",
       "      <th>2181</th>\n",
       "      <td>117662</td>\n",
       "      <td>топор</td>\n",
       "      <td>топор</td>\n",
       "      <td>булава</td>\n",
       "      <td>меч</td>\n",
       "      <td>21.29</td>\n",
       "      <td>before</td>\n",
       "      <td>БМТТ</td>\n",
       "    </tr>\n",
       "    <tr>\n",
       "      <th>11244</th>\n",
       "      <td>100640</td>\n",
       "      <td>меч</td>\n",
       "      <td>булава</td>\n",
       "      <td>булава</td>\n",
       "      <td>булава</td>\n",
       "      <td>21.09</td>\n",
       "      <td>after</td>\n",
       "      <td>БББМ</td>\n",
       "    </tr>\n",
       "    <tr>\n",
       "      <th>77</th>\n",
       "      <td>111822</td>\n",
       "      <td>меч</td>\n",
       "      <td>булава</td>\n",
       "      <td>топор</td>\n",
       "      <td>меч</td>\n",
       "      <td>18.66</td>\n",
       "      <td>before</td>\n",
       "      <td>БММТ</td>\n",
       "    </tr>\n",
       "    <tr>\n",
       "      <th>4118</th>\n",
       "      <td>118121</td>\n",
       "      <td>булава</td>\n",
       "      <td>лук</td>\n",
       "      <td>булава</td>\n",
       "      <td>топор</td>\n",
       "      <td>23.43</td>\n",
       "      <td>before</td>\n",
       "      <td>ББЛТ</td>\n",
       "    </tr>\n",
       "  </tbody>\n",
       "</table>\n",
       "</div>"
      ],
      "text/plain": [
       "       battle_id  unit_1  unit_2  unit_3  unit_4   len balance_mark setup\n",
       "4573      105176   топор     меч  булава   посох 23.96       before  БМПТ\n",
       "2181      117662   топор   топор  булава     меч 21.29       before  БМТТ\n",
       "11244     100640     меч  булава  булава  булава 21.09        after  БББМ\n",
       "77        111822     меч  булава   топор     меч 18.66       before  БММТ\n",
       "4118      118121  булава     лук  булава   топор 23.43       before  ББЛТ"
      ]
     },
     "execution_count": 15,
     "metadata": {},
     "output_type": "execute_result"
    }
   ],
   "source": [
    "df.sample(5)"
   ]
  },
  {
   "cell_type": "markdown",
   "metadata": {
    "id": "u01nKwHREoPk"
   },
   "source": [
    "<font face='Liberation serif' size=3>Новый столбец с сетапами в том виде, который необходим, присутствует</font>"
   ]
  },
  {
   "cell_type": "markdown",
   "metadata": {
    "id": "YNGCTcXjj2i9"
   },
   "source": [
    "<font face='Liberation serif' size=3>Разбиваем данные на две группы: до и после обновления</font>"
   ]
  },
  {
   "cell_type": "code",
   "execution_count": 16,
   "metadata": {
    "id": "xewJemcRGMC2"
   },
   "outputs": [],
   "source": [
    "before = df.query(\"balance_mark == 'before'\")\n",
    "after = df.query(\"balance_mark == 'after'\")"
   ]
  },
  {
   "cell_type": "markdown",
   "metadata": {
    "id": "XzhPMZ53j7Bb"
   },
   "source": [
    "<font face='Liberation serif' size=3>Смотрим на среднее</font>"
   ]
  },
  {
   "cell_type": "code",
   "execution_count": 17,
   "metadata": {
    "colab": {
     "base_uri": "https://localhost:8080/"
    },
    "id": "hn5bUULuwTzT",
    "outputId": "296ea01d-5901-4b35-fabf-b8fbb18d0fb2"
   },
   "outputs": [
    {
     "name": "stdout",
     "output_type": "stream",
     "text": [
      "Среднее время боя по датасету: 22.05 секунд\n",
      "Среднее время боя до изменений оружия: 19.97 секунд\n",
      "Среднее время боя после изменений оружия: 24.12 секунд\n"
     ]
    }
   ],
   "source": [
    "print(f'Среднее время боя по датасету: {df.len.mean():.2f} секунд')\n",
    "print(f'Среднее время боя до изменений оружия: {before.len.mean():.2f} секунд')\n",
    "print(f'Среднее время боя после изменений оружия: {after.len.mean():.2f} секунд')"
   ]
  },
  {
   "cell_type": "markdown",
   "metadata": {
    "id": "vjIE5bfBj-iR"
   },
   "source": [
    "<font face='Liberation serif' size=3>Есть подозрение, что оружие стало более слабым - время боя увеличилось</font>"
   ]
  },
  {
   "cell_type": "code",
   "execution_count": 18,
   "metadata": {
    "colab": {
     "base_uri": "https://localhost:8080/",
     "height": 370
    },
    "id": "bwDLQzb4wYbD",
    "outputId": "1a9f8df7-6c3b-4680-e78e-cb1a9c6cb9e9"
   },
   "outputs": [
    {
     "data": {
      "image/png": "[encoded data removed]",
      "text/plain": [
       "<Figure size 800x550 with 1 Axes>"
      ]
     },
     "metadata": {},
     "output_type": "display_data"
    }
   ],
   "source": [
    "sns.distplot(df.len);"
   ]
  },
  {
   "cell_type": "markdown",
   "metadata": {
    "id": "2r8QZJPBkGzj"
   },
   "source": [
    "<font face='Liberation serif' size=3>Слева есть хвост - бои длительностью от 5 до 15 секунд</font>"
   ]
  },
  {
   "cell_type": "code",
   "execution_count": 19,
   "metadata": {
    "colab": {
     "base_uri": "https://localhost:8080/"
    },
    "id": "yriIg7c_xBVy",
    "outputId": "53c91cda-4459-46fd-9e4f-abafd30f7480"
   },
   "outputs": [
    {
     "data": {
      "text/plain": [
       "array([15.01  , 15.72  , 19.3775, 24.63  , 28.76  , 29.74  ])"
      ]
     },
     "execution_count": 19,
     "metadata": {},
     "output_type": "execute_result"
    }
   ],
   "source": [
    "np.percentile(df.len, [1, 5, 25, 75, 95, 99])"
   ]
  },
  {
   "cell_type": "code",
   "execution_count": 20,
   "metadata": {
    "colab": {
     "base_uri": "https://localhost:8080/"
    },
    "id": "X4gHln41xKTq",
    "outputId": "71cc8614-13f3-41af-e311-122d1e07ea5e"
   },
   "outputs": [
    {
     "name": "stdout",
     "output_type": "stream",
     "text": [
      "Минимальное время игры: 5.01\n",
      "Максимальное время игры: 30.0\n"
     ]
    }
   ],
   "source": [
    "print(f'Минимальное время игры: {df.len.min()}\\nМаксимальное время игры: {df.len.max()}')"
   ]
  },
  {
   "cell_type": "markdown",
   "metadata": {
    "id": "Zg4VGY4bkOVP"
   },
   "source": [
    "<font face='Liberation serif' size=3>Отрисуем распределение длительности боев до и после</font>"
   ]
  },
  {
   "cell_type": "code",
   "execution_count": 21,
   "metadata": {
    "colab": {
     "base_uri": "https://localhost:8080/",
     "height": 506
    },
    "id": "w1coSduWEnCw",
    "outputId": "4e760889-0948-4c3a-b09c-c35ed6b797ed"
   },
   "outputs": [
    {
     "data": {
      "image/png": "[encoded data removed]",
      "text/plain": [
       "<Figure size 1400x800 with 1 Axes>"
      ]
     },
     "metadata": {},
     "output_type": "display_data"
    }
   ],
   "source": [
    "fig = plt.figure(figsize=(14, 8))\n",
    "\n",
    "ax = sns.distplot(before.len, label='before', kde=False,\n",
    "                  hist_kws={\"histtype\": \"step\", \"linewidth\": 3, \"alpha\": .7, \"color\": \"r\"})\n",
    "\n",
    "ax = sns.distplot(after.len, label='after', kde=False,\n",
    "                  hist_kws={\"histtype\": \"step\", \"linewidth\": 3, \"alpha\": .7, \"color\": \"g\"})\n",
    "\n",
    "ax.set_yticklabels([])\n",
    "plt.xlabel('Средняя продолжительность боя, сек.', {'family': 'serif', 'weight': 'normal', 'size': 12})\n",
    "plt.legend()\n",
    "plt.show()"
   ]
  },
  {
   "cell_type": "markdown",
   "metadata": {
    "id": "teFSah8hkU7o"
   },
   "source": [
    "<font face='Liberation serif' size=3>До смены баланса все бои протекали от 15 до 25 секунд. Теперь ж появился хвост из пятисекундных боев и прошел сдвиг времени до 20-30 секунд.   \n",
    "До обновления все бои укладывались в промежуток от 15 до 25 секунд. После смены баланса время боев сместилось в промежуток от 20 до 30 секунд и появились бои с длительностью от 15 секунд - скорее всего появилась дисбалансный сетап или оружиие, которую нашли пользователи - этот момент необходимо устранить, так как это повлияет на качество боев в игре в целом - все будут использовать \"читерские\" сетапы.</font>"
   ]
  },
  {
   "cell_type": "code",
   "execution_count": 22,
   "metadata": {
    "colab": {
     "base_uri": "https://localhost:8080/"
    },
    "id": "4WkdIWZiExuo",
    "outputId": "b9c245db-50e4-4a2f-baba-235ced253a66"
   },
   "outputs": [
    {
     "data": {
      "text/plain": [
       "array([ 9.9293, 18.3895, 29.37  , 29.86  ])"
      ]
     },
     "execution_count": 22,
     "metadata": {},
     "output_type": "execute_result"
    }
   ],
   "source": [
    "np.percentile(after.len, [1, 5, 95, 99])"
   ]
  },
  {
   "cell_type": "code",
   "execution_count": 23,
   "metadata": {
    "colab": {
     "base_uri": "https://localhost:8080/"
    },
    "id": "uUXita_iLHvk",
    "outputId": "95554c53-33ac-4ac5-9f5b-c01e5320ad0a"
   },
   "outputs": [
    {
     "data": {
      "text/plain": [
       "array([15.1 , 15.51, 24.47, 24.91])"
      ]
     },
     "execution_count": 23,
     "metadata": {},
     "output_type": "execute_result"
    }
   ],
   "source": [
    "np.percentile(before.len, [1, 5, 95, 99])"
   ]
  },
  {
   "cell_type": "markdown",
   "metadata": {
    "id": "jH2e2O0Ikji-"
   },
   "source": [
    "<font face='Liberation serif' size=3>Выделим все возможные способы проведения боев</font>"
   ]
  },
  {
   "cell_type": "code",
   "execution_count": 24,
   "metadata": {
    "id": "97g4qa3xLY_i"
   },
   "outputs": [],
   "source": [
    "setups = df.setup.unique()"
   ]
  },
  {
   "cell_type": "code",
   "execution_count": 25,
   "metadata": {
    "colab": {
     "base_uri": "https://localhost:8080/"
    },
    "id": "x5M6Pz0tM17-",
    "outputId": "3baed388-989c-4bbb-8e82-cb79c722b0e3"
   },
   "outputs": [
    {
     "data": {
      "text/plain": [
       "70"
      ]
     },
     "execution_count": 25,
     "metadata": {},
     "output_type": "execute_result"
    }
   ],
   "source": [
    "len(setups)"
   ]
  },
  {
   "cell_type": "markdown",
   "metadata": {
    "id": "7X0u2lMhknR-"
   },
   "source": [
    "<font face='Liberation serif' size=3>Всего имеем 70 вариантов компоновки строя</font>"
   ]
  },
  {
   "cell_type": "markdown",
   "metadata": {
    "id": "0UQM7oyZksnj"
   },
   "source": [
    "<font face='Liberation serif' size=3>Проверим поменялось ли среднее время боя</font>"
   ]
  },
  {
   "cell_type": "markdown",
   "metadata": {
    "id": "RFUF6--dk28S"
   },
   "source": [
    "<font face='liberation serif' size=3>   \n",
    "    \n",
    "- **Нулевая гипотеза:** среднее время боя после обновления не отличается (баланс сохранен)   \n",
    "- **Альтернативная гипотеза:** Среднее время боя после обновления отличается (баланс поменялся)\n",
    "</font>"
   ]
  },
  {
   "cell_type": "markdown",
   "metadata": {
    "id": "R1HPGnF8k41b"
   },
   "source": [
    "<font face='Liberation serif' size=3>Статистическая значимость - 5 процентов</font>"
   ]
  },
  {
   "cell_type": "code",
   "execution_count": 26,
   "metadata": {
    "id": "z-yaCfw2M3YF"
   },
   "outputs": [],
   "source": [
    "alpha = .05"
   ]
  },
  {
   "cell_type": "markdown",
   "metadata": {
    "id": "qxqO6OA9lGcD"
   },
   "source": [
    "<font face='Liberation serif' size=3>На печать выведем только те сетапы, где не получилось отвергнуть теории о равенстве средних</font>"
   ]
  },
  {
   "cell_type": "markdown",
   "metadata": {
    "id": "guCvrFBDlQNg"
   },
   "source": [
    "<font face='Liberation serif' size=3>Проверяем непараметрическим методом, так как распределение ненормальное</font>"
   ]
  },
  {
   "cell_type": "code",
   "execution_count": 27,
   "metadata": {
    "colab": {
     "base_uri": "https://localhost:8080/"
    },
    "id": "mip9ujbfM7_W",
    "outputId": "15cab0cb-13b7-4361-8c86-7a5f41c5298f"
   },
   "outputs": [
    {
     "name": "stdout",
     "output_type": "stream",
     "text": [
      "\n",
      " БТТТ\n",
      "Не получилось отвергнуть нулевую гипотезу\n",
      "\n",
      " ММТТ\n",
      "Не получилось отвергнуть нулевую гипотезу\n",
      "\n",
      " БММТ\n",
      "Не получилось отвергнуть нулевую гипотезу\n",
      "\n",
      " БМММ\n",
      "Не получилось отвергнуть нулевую гипотезу\n",
      "\n",
      " БМТТ\n",
      "Не получилось отвергнуть нулевую гипотезу\n",
      "\n",
      " БББМ\n",
      "Не получилось отвергнуть нулевую гипотезу\n",
      "\n",
      " ББММ\n",
      "Не получилось отвергнуть нулевую гипотезу\n",
      "\n",
      " ББТТ\n",
      "Не получилось отвергнуть нулевую гипотезу\n",
      "\n",
      " МММТ\n",
      "Не получилось отвергнуть нулевую гипотезу\n",
      "\n",
      " ББББ\n",
      "Не получилось отвергнуть нулевую гипотезу\n",
      "\n",
      " БББТ\n",
      "Не получилось отвергнуть нулевую гипотезу\n",
      "\n",
      " МТТТ\n",
      "Не получилось отвергнуть нулевую гипотезу\n",
      "\n",
      " ТТТТ\n",
      "Не получилось отвергнуть нулевую гипотезу\n"
     ]
    }
   ],
   "source": [
    "negatives = []\n",
    "for var in setups:\n",
    "    stat, pmu = st.mannwhitneyu(before.query(\"setup == @var\")['len'].tolist(), after.query(\"setup == @var\")['len'].tolist(), alternative='two-sided')\n",
    "    if (pmu > alpha):\n",
    "        print('\\n', var)\n",
    "        print(\"Не получилось отвергнуть нулевую гипотезу\")\n",
    "        negatives.append(var)\n",
    "    else:\n",
    "        continue"
   ]
  },
  {
   "cell_type": "code",
   "execution_count": 28,
   "metadata": {
    "id": "67M8tMMaNO4r"
   },
   "outputs": [],
   "source": [
    "test = df.query('setup in @negatives')"
   ]
  },
  {
   "cell_type": "code",
   "execution_count": 29,
   "metadata": {
    "colab": {
     "base_uri": "https://localhost:8080/"
    },
    "id": "HOgZ2CaHRcAM",
    "outputId": "6dc4c939-85bb-4782-80d7-69141a8c8aac"
   },
   "outputs": [
    {
     "data": {
      "text/plain": [
       "13"
      ]
     },
     "execution_count": 29,
     "metadata": {},
     "output_type": "execute_result"
    }
   ],
   "source": [
    "test.setup.nunique()"
   ]
  },
  {
   "cell_type": "code",
   "execution_count": 30,
   "metadata": {
    "colab": {
     "base_uri": "https://localhost:8080/"
    },
    "id": "Gi485Fwxli_R",
    "outputId": "d03847d6-d869-4097-fb39-3ca46cb17304"
   },
   "outputs": [
    {
     "name": "stdout",
     "output_type": "stream",
     "text": [
      "['БТТТ', 'ММТТ', 'БММТ', 'БМММ', 'БМТТ', 'БББМ', 'ББММ', 'ББТТ', 'МММТ', 'ББББ', 'БББТ', 'МТТТ', 'ТТТТ']\n"
     ]
    }
   ],
   "source": [
    "print(test.setup.unique().tolist())"
   ]
  },
  {
   "cell_type": "markdown",
   "metadata": {
    "id": "VMNoSEd2lwNW"
   },
   "source": [
    "<font face='Liberation serif' size=3>Судя по сетапам баланс не изменился для топоров, мечей и булав - в этих сетапах гипотеза о равенстве средних подтвердилась</font>"
   ]
  },
  {
   "cell_type": "markdown",
   "metadata": {
    "id": "b_VSvgGjmEXE"
   },
   "source": [
    "<font face='Liberation serif' size=3>Почистим данные от выбросов (оставим данные от 1 до 99 перцентиля)</font>"
   ]
  },
  {
   "cell_type": "code",
   "execution_count": 31,
   "metadata": {
    "id": "xM8ZoT7-RdnD"
   },
   "outputs": [],
   "source": [
    "before = before.query('15.1 <= len <= 24.91')\n",
    "after = after.query('9.93 <= len <= 29.86')"
   ]
  },
  {
   "cell_type": "code",
   "execution_count": 32,
   "metadata": {
    "colab": {
     "base_uri": "https://localhost:8080/"
    },
    "id": "_dshnMkZR8RV",
    "outputId": "292d4c5d-544b-4319-de60-f08d517ff0c1"
   },
   "outputs": [
    {
     "name": "stdout",
     "output_type": "stream",
     "text": [
      "\n",
      " БТТТ\n",
      "Не получилось отвергнуть нулевую гипотезу\n",
      "\n",
      " ММТТ\n",
      "Не получилось отвергнуть нулевую гипотезу\n",
      "\n",
      " БММТ\n",
      "Не получилось отвергнуть нулевую гипотезу\n",
      "\n",
      " БМММ\n",
      "Не получилось отвергнуть нулевую гипотезу\n",
      "\n",
      " БМТТ\n",
      "Не получилось отвергнуть нулевую гипотезу\n",
      "\n",
      " БББМ\n",
      "Не получилось отвергнуть нулевую гипотезу\n",
      "\n",
      " ББММ\n",
      "Не получилось отвергнуть нулевую гипотезу\n",
      "\n",
      " ББТТ\n",
      "Не получилось отвергнуть нулевую гипотезу\n",
      "\n",
      " МММТ\n",
      "Не получилось отвергнуть нулевую гипотезу\n",
      "\n",
      " ББББ\n",
      "Не получилось отвергнуть нулевую гипотезу\n",
      "\n",
      " БББТ\n",
      "Не получилось отвергнуть нулевую гипотезу\n",
      "\n",
      " МТТТ\n",
      "Не получилось отвергнуть нулевую гипотезу\n",
      "\n",
      " ТТТТ\n",
      "Не получилось отвергнуть нулевую гипотезу\n"
     ]
    }
   ],
   "source": [
    "for var in setups:\n",
    "    stat, pmu = st.mannwhitneyu(before.query(\"setup == @var\")['len'].tolist(), after.query(\"setup == @var\")['len'].tolist(), alternative='two-sided')\n",
    "    if (pmu > alpha):\n",
    "        print('\\n', var)\n",
    "        print(\"Не получилось отвергнуть нулевую гипотезу\")\n",
    "    else:\n",
    "        continue"
   ]
  },
  {
   "cell_type": "markdown",
   "metadata": {
    "id": "rwoFrRgBmJjS"
   },
   "source": [
    "<font face='Liberation serif' size=3>Все без изменений - остались те же самые сетапы</font>"
   ]
  },
  {
   "cell_type": "code",
   "execution_count": 33,
   "metadata": {
    "colab": {
     "base_uri": "https://localhost:8080/",
     "height": 370
    },
    "id": "MjPXR6vqSBHT",
    "outputId": "fa8139ea-76c2-4d40-884b-29d3246547c5"
   },
   "outputs": [
    {
     "data": {
      "image/png": "[encoded data removed]",
      "text/plain": [
       "<Figure size 800x550 with 1 Axes>"
      ]
     },
     "metadata": {},
     "output_type": "display_data"
    }
   ],
   "source": [
    "ax = sns.distplot(before.len, label='before')\n",
    "ax = sns.distplot(after.len, label='after')\n",
    "\n",
    "ax.set_yticklabels([])\n",
    "plt.xlabel('Средняя продолжительность боя, сек.', {'family': 'serif', 'size': 10})\n",
    "plt.legend()\n",
    "plt.show()"
   ]
  },
  {
   "cell_type": "code",
   "execution_count": 34,
   "metadata": {
    "colab": {
     "base_uri": "https://localhost:8080/"
    },
    "id": "R3eov0zTSJd6",
    "outputId": "0a15542f-5573-4495-dd07-fc8bf37b1a04"
   },
   "outputs": [
    {
     "data": {
      "text/plain": [
       "array(['ББМТ'], dtype=object)"
      ]
     },
     "execution_count": 34,
     "metadata": {},
     "output_type": "execute_result"
    }
   ],
   "source": [
    "df.query('len < 10').setup.unique()"
   ]
  },
  {
   "cell_type": "markdown",
   "metadata": {
    "id": "S5SfZTL5Zjyi"
   },
   "source": [
    "<font face='liberation serif' size=3>Похоже найдена читерская связка: данных маловато, чтобы понять что это: косяк или все таки чит, но факт остается фактом - после обновления появились бои менее 10 секунд и все с этой связкой.   \n",
    "Можно просмотреть логи боев и понять, что произошло - поменялось взаимодействие между оружием или какой то новый навык или совместный навык, который проявляется в этой связке - в датасете данных подобного рода нет, поэтому необходимо доисследование</font>"
   ]
  },
  {
   "cell_type": "markdown",
   "metadata": {
    "id": "SjXwKwU7mg7m"
   },
   "source": [
    "<font face='Liberation serif' size=3>Добавим тест Стьюдента</font>"
   ]
  },
  {
   "cell_type": "code",
   "execution_count": 35,
   "metadata": {
    "colab": {
     "base_uri": "https://localhost:8080/"
    },
    "id": "7GE4RiRsZv-m",
    "outputId": "b3e6300a-6c7a-4612-c00e-57682759a9ae"
   },
   "outputs": [
    {
     "name": "stdout",
     "output_type": "stream",
     "text": [
      "\n",
      " БТТТ\n",
      "p-значение: 0.684385353420031\n",
      "Время до: 20.31, время после: 20.09\n",
      "Не получилось отвергнуть нулевую гипотезу\n",
      "\n",
      " ММТТ\n",
      "p-значение: 0.9396197947130578\n",
      "Время до: 19.92, время после: 19.95\n",
      "Не получилось отвергнуть нулевую гипотезу\n",
      "\n",
      " БММТ\n",
      "p-значение: 0.14173333744212976\n",
      "Время до: 19.69, время после: 20.00\n",
      "Не получилось отвергнуть нулевую гипотезу\n",
      "\n",
      " БМММ\n",
      "p-значение: 0.5548697930152775\n",
      "Время до: 20.05, время после: 19.76\n",
      "Не получилось отвергнуть нулевую гипотезу\n",
      "\n",
      " БМТТ\n",
      "p-значение: 0.9119790374133985\n",
      "Время до: 20.04, время после: 20.08\n",
      "Не получилось отвергнуть нулевую гипотезу\n",
      "\n",
      " БББМ\n",
      "p-значение: 0.9252819004151158\n",
      "Время до: 20.05, время после: 20.10\n",
      "Не получилось отвергнуть нулевую гипотезу\n",
      "\n",
      " ББММ\n",
      "p-значение: 0.8150678826190507\n",
      "Время до: 20.09, время после: 20.00\n",
      "Не получилось отвергнуть нулевую гипотезу\n",
      "\n",
      " ББТТ\n",
      "p-значение: 0.6764696004778307\n",
      "Время до: 20.05, время после: 20.22\n",
      "Не получилось отвергнуть нулевую гипотезу\n",
      "\n",
      " МММТ\n",
      "p-значение: 0.9377124493678176\n",
      "Время до: 20.22, время после: 20.26\n",
      "Не получилось отвергнуть нулевую гипотезу\n",
      "\n",
      " ББББ\n",
      "p-значение: 0.10298227447753215\n",
      "Время до: 18.52, время после: 19.81\n",
      "Не получилось отвергнуть нулевую гипотезу\n",
      "\n",
      " БББТ\n",
      "p-значение: 0.4293744370570075\n",
      "Время до: 20.23, время после: 19.83\n",
      "Не получилось отвергнуть нулевую гипотезу\n",
      "\n",
      " МТТТ\n",
      "p-значение: 0.43862501893072203\n",
      "Время до: 20.21, время после: 20.58\n",
      "Не получилось отвергнуть нулевую гипотезу\n",
      "\n",
      " ТТТТ\n",
      "p-значение: 0.20909231409836063\n",
      "Время до: 18.89, время после: 19.97\n",
      "Не получилось отвергнуть нулевую гипотезу\n"
     ]
    }
   ],
   "source": [
    "for var in setups:\n",
    "    \n",
    "    results = st.ttest_ind(before.query(\"setup == @var\")['len'].tolist(), after.query(\"setup == @var\")['len'].tolist(), equal_var = False)\n",
    "    if (results.pvalue > alpha):\n",
    "        print('\\n', var)\n",
    "        print('p-значение:', results.pvalue)\n",
    "        print('Время до: {:.2f}, время после: {:.2f}'.format(np.mean(before.query(\"setup == @var\")['len'].tolist()),\\\n",
    "                                                 np.mean(after.query(\"setup == @var\")['len'].tolist())))\n",
    "        print(\"Не получилось отвергнуть нулевую гипотезу\")\n",
    "    else:\n",
    "        continue"
   ]
  },
  {
   "cell_type": "markdown",
   "metadata": {
    "id": "clofFyyUmqO2"
   },
   "source": [
    "<font face='Liberation serif' size=3>Те же самые 13 сетапов</font>"
   ]
  },
  {
   "cell_type": "markdown",
   "metadata": {
    "id": "V_47V_Nxmucc"
   },
   "source": [
    "<font face='Liberation serif' size=3>**Вывод:** в любом случае после обновления баланс игры поменялся. Даже несмотря на то что для трех оружий не удалось отвергнуть гипотезу о равенстве средних, распределение по времени боя сместилось на 5 секунд в плюс, а также появилась связка при которой бой идет 5-10 секунд.</font>"
   ]
  },
  {
   "cell_type": "markdown",
   "metadata": {
    "id": "-tkGqgjPpc3g"
   },
   "source": [
    "<font face='Liberation serif' size=3>Уберем читеров из данных</font>"
   ]
  },
  {
   "cell_type": "code",
   "execution_count": 36,
   "metadata": {
    "id": "PNNdOSsEnEpP"
   },
   "outputs": [],
   "source": [
    "df = df.query(\"setup !='ББМТ'\")"
   ]
  },
  {
   "cell_type": "code",
   "execution_count": 37,
   "metadata": {
    "colab": {
     "base_uri": "https://localhost:8080/",
     "height": 370
    },
    "id": "V2oyc3AvoryH",
    "outputId": "f6c8e6c0-d2b2-41be-af51-386e608079ef"
   },
   "outputs": [
    {
     "data": {
      "image/png": "[encoded data removed]",
      "text/plain": [
       "<Figure size 800x550 with 1 Axes>"
      ]
     },
     "metadata": {},
     "output_type": "display_data"
    }
   ],
   "source": [
    "ax=sns.distplot(df.len)\n",
    "ax.set_yticklabels([])\n",
    "plt.xlabel('Средняя продолжительность боя, сек.', {'family': 'serif', 'size': 10})\n",
    "plt.show()"
   ]
  },
  {
   "cell_type": "code",
   "execution_count": 38,
   "metadata": {
    "colab": {
     "base_uri": "https://localhost:8080/",
     "height": 370
    },
    "id": "-0vM_EJSow2i",
    "outputId": "9ea42b92-2660-41ad-bdb0-39a7c86b4c88"
   },
   "outputs": [
    {
     "data": {
      "image/png": "[encoded data removed]",
      "text/plain": [
       "<Figure size 800x550 with 1 Axes>"
      ]
     },
     "metadata": {},
     "output_type": "display_data"
    }
   ],
   "source": [
    "ax = sns.distplot(df.query(\"balance_mark=='before'\").len, label='before')\n",
    "ax = sns.distplot(df.query(\"balance_mark=='after'\").len, label='after')\n",
    "ax.set_yticklabels([])\n",
    "plt.xlabel('Средняя продолжительность боя, сек.', {'family': 'serif', 'size': 10})\n",
    "plt.legend()\n",
    "plt.show()"
   ]
  },
  {
   "cell_type": "markdown",
   "metadata": {
    "id": "cUVt02BYpygu"
   },
   "source": [
    "<font face='Liberation serif' size=3>Итого видим, что теперь от 15 до 20 секунд длится намного меньше боев, чем до обновления, и верхняя планка боев подросла до 30 секунд. То есть оружие стало послабее - бои длятся дольше.</font>"
   ]
  },
  {
   "cell_type": "markdown",
   "metadata": {
    "id": "ym01psGlp6Uv"
   },
   "source": [
    "<font face='liberation serif' size=4>**ВЫВОДЫ ПО ИССЛЕДОВАНИЮ:**</font>"
   ]
  },
  {
   "cell_type": "markdown",
   "metadata": {},
   "source": [
    "<font face='liberation serif' size=3>\n",
    "    \n",
    "- баланс сил не изменился для 13 сетапов из 70;\n",
    "    \n",
    "- оружие стало менее сильным - время боя выросло с 15-25 секунд до 20-30 секунд;\n",
    "    \n",
    "- появилась читерская связка, при использовании которой время боя составляет 5-15 секунд.\n",
    "    \n",
    "В целом можно сделать вывод, что баланс игры поменялся + необходимо исправить читерскую связку\n",
    "</font>"
   ]
  },
  {
   "cell_type": "code",
   "execution_count": null,
   "metadata": {},
   "outputs": [],
   "source": []
  }
 ],
 "metadata": {
  "colab": {
   "provenance": []
  },
  "kernelspec": {
   "display_name": "Python 3 (ipykernel)",
   "language": "python",
   "name": "python3"
  },
  "language_info": {
   "codemirror_mode": {
    "name": "ipython",
    "version": 3
   },
   "file_extension": ".py",
   "mimetype": "text/x-python",
   "name": "python",
   "nbconvert_exporter": "python",
   "pygments_lexer": "ipython3",
   "version": "3.10.9"
  }
 },
 "nbformat": 4,
 "nbformat_minor": 1
}
